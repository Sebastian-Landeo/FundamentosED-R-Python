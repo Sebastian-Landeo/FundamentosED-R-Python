{
 "cells": [
  {
   "cell_type": "markdown",
   "id": "2bcdbcc2-b28e-4bd3-81f1-abe63d22918d",
   "metadata": {},
   "source": [
    "## Tarea 13"
   ]
  },
  {
   "cell_type": "code",
   "execution_count": 134,
   "id": "4b1aa4cc-1e1e-462c-8745-6a8b213dada4",
   "metadata": {},
   "outputs": [],
   "source": [
    "import pandas as pd\n",
    "import numpy as np\n",
    "import math"
   ]
  },
  {
   "cell_type": "code",
   "execution_count": 71,
   "id": "da17ec4e-2eaa-4a61-b18e-acba803c64d8",
   "metadata": {},
   "outputs": [
    {
     "name": "stdout",
     "output_type": "stream",
     "text": [
      "<class 'pandas.core.frame.DataFrame'>\n",
      "RangeIndex: 173 entries, 0 to 172\n",
      "Data columns (total 6 columns):\n",
      " #   Column  Non-Null Count  Dtype  \n",
      "---  ------  --------------  -----  \n",
      " 0   input   173 non-null    int64  \n",
      " 1   color   173 non-null    int64  \n",
      " 2   spine   173 non-null    int64  \n",
      " 3   width   173 non-null    float64\n",
      " 4   satell  173 non-null    int64  \n",
      " 5   weight  173 non-null    int64  \n",
      "dtypes: float64(1), int64(5)\n",
      "memory usage: 8.2 KB\n"
     ]
    },
    {
     "data": {
      "text/plain": [
       "(173, 6)"
      ]
     },
     "execution_count": 71,
     "metadata": {},
     "output_type": "execute_result"
    }
   ],
   "source": [
    "crabs = pd.read_table(\"../../data/datacrab.txt\", delimiter=\" \")\n",
    "crabs.head()\n",
    "crabs.describe().transpose()\n",
    "# Similar al str de R\n",
    "crabs.info()\n",
    "crabs.shape"
   ]
  },
  {
   "cell_type": "code",
   "execution_count": 142,
   "id": "231b0f81-3735-42dc-bf73-93865d6440fd",
   "metadata": {},
   "outputs": [
    {
     "data": {
      "text/plain": [
       "0      28.3\n",
       "1      22.5\n",
       "2      26.0\n",
       "3      24.8\n",
       "4      26.0\n",
       "       ... \n",
       "168    26.1\n",
       "169    29.0\n",
       "170    28.0\n",
       "171    27.0\n",
       "172    24.5\n",
       "Name: width, Length: 173, dtype: float64"
      ]
     },
     "execution_count": 142,
     "metadata": {},
     "output_type": "execute_result"
    }
   ],
   "source": [
    "# Se convierte en una serie\n",
    "cw = crabs.width\n",
    "cw"
   ]
  },
  {
   "cell_type": "markdown",
   "id": "f431d493-58be-4a67-9116-4a897f9aad0d",
   "metadata": {},
   "source": [
    "### Hallar el número de clase"
   ]
  },
  {
   "cell_type": "code",
   "execution_count": 132,
   "id": "6c49b1cb-3772-434d-92ee-b0c1aa2c9804",
   "metadata": {},
   "outputs": [
    {
     "data": {
      "text/plain": [
       "14"
      ]
     },
     "execution_count": 132,
     "metadata": {},
     "output_type": "execute_result"
    }
   ],
   "source": [
    "# Regla de la raíz cuadrada\n",
    "n = len(cw)\n",
    "# Para redondear usa ceil\n",
    "k1 = math.ceil(math.sqrt(n))\n",
    "k1"
   ]
  },
  {
   "cell_type": "code",
   "execution_count": 75,
   "id": "f3d0c134-111d-4d71-9fa9-558e45ac49ca",
   "metadata": {},
   "outputs": [
    {
     "data": {
      "text/plain": [
       "9"
      ]
     },
     "execution_count": 75,
     "metadata": {},
     "output_type": "execute_result"
    }
   ],
   "source": [
    "# Regla de Sturges\n",
    "k2 = math.ceil(1+math.log(n, 2))\n",
    "k2"
   ]
  },
  {
   "cell_type": "code",
   "execution_count": 130,
   "id": "f389a0b1-c110-4d5f-898a-1d1139d9748c",
   "metadata": {},
   "outputs": [
    {
     "data": {
      "text/plain": [
       "10"
      ]
     },
     "execution_count": 130,
     "metadata": {},
     "output_type": "execute_result"
    }
   ],
   "source": [
    "# Regla de Scott\n",
    "As = 3.5*cw.std()*math.pow(n, -1/3)\n",
    "k3 = math.ceil((cw.max()-cw.min())/As)\n",
    "# Rango 2 formas de conseguirlo\n",
    "# print(cw.max()-cw.min()) = print(np.ptp(cw))\n",
    "# ptp significa peak to peak : de pico a pico\n",
    "k3"
   ]
  },
  {
   "cell_type": "code",
   "execution_count": 136,
   "id": "f640fb59-00db-425d-ab0a-7e9a58d811b5",
   "metadata": {},
   "outputs": [
    {
     "data": {
      "text/plain": [
       "13"
      ]
     },
     "execution_count": 136,
     "metadata": {},
     "output_type": "execute_result"
    }
   ],
   "source": [
    "# Regla de Freedman-Diaconis\n",
    "# Rango cuartílico: \n",
    "# Con numpy y percentiles: np.percentile(cw, 75) - np.percentile(cw, 25)\n",
    "# Con panda y cuantiles: cw.quantile(0.75) - cw.quantile(0.25)\n",
    "Afd = 2*(np.percentile(cw, 75)-np.percentile(cw, 25))*math.pow(n, -1/3)\n",
    "k4 = math.ceil(np.ptp(cw)/Afd)\n",
    "k4"
   ]
  },
  {
   "cell_type": "markdown",
   "id": "7ad4f49b-d8de-4f69-b6e9-7af837c8fe81",
   "metadata": {},
   "source": [
    "### Hallar el número de clase con funciones"
   ]
  },
  {
   "cell_type": "markdown",
   "id": "05395e89-8eb9-4ff5-b110-f3525329aa68",
   "metadata": {},
   "source": [
    "- Esta función arroja los intervalos. Estos los halla sin usar la presición que usa el profe, sus intervalos tienen el min y maximo de los datos; pero si no es lo que esperabas puedes solo obtener \"k\"."
   ]
  },
  {
   "cell_type": "markdown",
   "id": "5234afef-4066-4e8f-8470-10f8a64242fe",
   "metadata": {},
   "source": [
    "- Bins (intervalos): la estrategia que se utiliza para determinar los bordes de intervalo y usarlo en histogramas."
   ]
  },
  {
   "cell_type": "code",
   "execution_count": 80,
   "id": "def5eb16-684c-4df3-9f6c-7fbf0494933d",
   "metadata": {},
   "outputs": [
    {
     "name": "stdout",
     "output_type": "stream",
     "text": [
      "Sturges: 9\n",
      "Scott: 10\n",
      "Freedman: 13\n"
     ]
    }
   ],
   "source": [
    "# Regla de Sturges\n",
    "sturges_bins = np.histogram_bin_edges(cw, bins='sturges')\n",
    "k2f = len(sturges_bins) - 1\n",
    "print(\"Sturges:\", k2f)\n",
    "\n",
    "# Regla de Scott\n",
    "scott_bins = np.histogram_bin_edges(cw, bins='scott')\n",
    "k3f = len(scott_bins) - 1\n",
    "print(\"Scott:\", k3f)\n",
    "\n",
    "# Regla de Freedman-Diaconis\n",
    "fd_bins = np.histogram_bin_edges(cw, bins='fd')\n",
    "k4f = len(fd_bins) - 1\n",
    "print(\"Freedman:\", k4f)"
   ]
  },
  {
   "cell_type": "code",
   "execution_count": 150,
   "id": "c2a8630c-d129-429e-a876-df1c4cea0cea",
   "metadata": {},
   "outputs": [
    {
     "name": "stdout",
     "output_type": "stream",
     "text": [
      "<class 'numpy.ndarray'>\n",
      "Sturges: [21.         22.38888889 23.77777778 25.16666667 26.55555556 27.94444444\n",
      " 29.33333333 30.72222222 32.11111111 33.5       ]\n",
      "Scott: [21.   22.25 23.5  24.75 26.   27.25 28.5  29.75 31.   32.25 33.5 ]\n",
      "Freedman: [21.         21.96153846 22.92307692 23.88461538 24.84615385 25.80769231\n",
      " 26.76923077 27.73076923 28.69230769 29.65384615 30.61538462 31.57692308\n",
      " 32.53846154 33.5       ]\n"
     ]
    }
   ],
   "source": [
    "# Intervalos de las funciones de python\n",
    "print(type(sturges_bins)) # Son arrays de numpy\n",
    "# Estos arryas por lo visto no usan comas (,). Esto pasa cuando quieren o el tienen muchas cifras decimales\n",
    "print(\"Sturges:\", sturges_bins)\n",
    "print(\"Scott:\", scott_bins)\n",
    "print(\"Freedman:\", fd_bins)"
   ]
  },
  {
   "cell_type": "markdown",
   "id": "d870f633-54ce-416b-bf41-59b3a5676751",
   "metadata": {},
   "source": [
    "**Otros valores para bins**\n",
    "- Entero: Número de intervalos en los que se dividirán los datos.\n",
    "- Lista: Se utilizarán directamente como los bordes de los intervalos."
   ]
  },
  {
   "cell_type": "markdown",
   "id": "53bfa7c0-c524-44f2-be65-100af04295b2",
   "metadata": {},
   "source": [
    "### Hallando la amplitud"
   ]
  },
  {
   "cell_type": "code",
   "execution_count": 83,
   "id": "00482071-ad40-4035-852a-2b6663546985",
   "metadata": {},
   "outputs": [
    {
     "name": "stdout",
     "output_type": "stream",
     "text": [
      "0.8928571428571429\n"
     ]
    }
   ],
   "source": [
    "# Regla de la raíz cuadrada (k1)\n",
    "A = np.ptp(cw)/k1\n",
    "print(A)\n",
    "A = 0.9"
   ]
  },
  {
   "cell_type": "code",
   "execution_count": 84,
   "id": "ee859ec0-51e1-49c8-be3c-c7c4d7fa0ff4",
   "metadata": {},
   "outputs": [
    {
     "name": "stdout",
     "output_type": "stream",
     "text": [
      "1.3888888888888888\n"
     ]
    }
   ],
   "source": [
    "# Regla de Sturges (k2)\n",
    "A = np.ptp(cw)/k2\n",
    "print(A)\n",
    "A = 1.4"
   ]
  },
  {
   "cell_type": "code",
   "execution_count": 85,
   "id": "3b8479d4-d1d9-40ad-b340-3fb293ec953a",
   "metadata": {},
   "outputs": [
    {
     "name": "stdout",
     "output_type": "stream",
     "text": [
      "1.25\n"
     ]
    }
   ],
   "source": [
    "# Regla de Scott (k3)\n",
    "A = np.ptp(cw)/k3\n",
    "print(A)\n",
    "A = 1.3"
   ]
  },
  {
   "cell_type": "code",
   "execution_count": 86,
   "id": "a1afb4b5-0294-4c4c-b761-2b15158f08a8",
   "metadata": {},
   "outputs": [
    {
     "name": "stdout",
     "output_type": "stream",
     "text": [
      "0.9615384615384616\n"
     ]
    }
   ],
   "source": [
    "# Regla de Freedman-Diaconis (k4)\n",
    "A = np.ptp(cw)/k4\n",
    "print(A)\n",
    "A = 1.0"
   ]
  },
  {
   "cell_type": "markdown",
   "id": "3684a679-cfda-4bfb-aee1-2b116913c461",
   "metadata": {},
   "source": [
    "### Hallando los intervalos"
   ]
  },
  {
   "cell_type": "code",
   "execution_count": 88,
   "id": "23cfad89-b0b1-451f-a0c0-1c9c57a7addb",
   "metadata": {},
   "outputs": [
    {
     "data": {
      "text/plain": [
       "20.95"
      ]
     },
     "execution_count": 88,
     "metadata": {},
     "output_type": "execute_result"
    }
   ],
   "source": [
    "L1 = cw.min()-1/2*(0.1)\n",
    "L1"
   ]
  },
  {
   "cell_type": "code",
   "execution_count": 148,
   "id": "e764c59e-572c-4ec1-9f85-4341cf3ebbf8",
   "metadata": {},
   "outputs": [
    {
     "data": {
      "text/plain": [
       "array([20.95, 21.95, 22.95, 23.95, 24.95, 25.95, 26.95, 27.95, 28.95,\n",
       "       29.95, 30.95])"
      ]
     },
     "execution_count": 148,
     "metadata": {},
     "output_type": "execute_result"
    }
   ],
   "source": [
    "L = L1 + A*np.arange(11)\n",
    "L"
   ]
  },
  {
   "cell_type": "markdown",
   "id": "f497a139-9ba6-4d29-a03f-35e6f2e83d00",
   "metadata": {},
   "source": [
    "### Hallando la marca de clase"
   ]
  },
  {
   "cell_type": "code",
   "execution_count": 91,
   "id": "e2630d0c-fb68-4913-be91-2e80247b8510",
   "metadata": {},
   "outputs": [
    {
     "data": {
      "text/plain": [
       "21.45"
      ]
     },
     "execution_count": 91,
     "metadata": {},
     "output_type": "execute_result"
    }
   ],
   "source": [
    "X1 = (L[0]+L[1])/2\n",
    "X1"
   ]
  },
  {
   "cell_type": "code",
   "execution_count": 92,
   "id": "ba67e17f-b346-4628-9d01-7192072c9eeb",
   "metadata": {},
   "outputs": [
    {
     "data": {
      "text/plain": [
       "array([21.45, 22.45, 23.45, 24.45, 25.45, 26.45, 27.45, 28.45, 29.45,\n",
       "       30.45])"
      ]
     },
     "execution_count": 92,
     "metadata": {},
     "output_type": "execute_result"
    }
   ],
   "source": [
    "X = X1 + A*np.arange(10)\n",
    "X"
   ]
  }
 ],
 "metadata": {
  "kernelspec": {
   "display_name": "Python 3 (ipykernel)",
   "language": "python",
   "name": "python3"
  },
  "language_info": {
   "codemirror_mode": {
    "name": "ipython",
    "version": 3
   },
   "file_extension": ".py",
   "mimetype": "text/x-python",
   "name": "python",
   "nbconvert_exporter": "python",
   "pygments_lexer": "ipython3",
   "version": "3.11.7"
  }
 },
 "nbformat": 4,
 "nbformat_minor": 5
}
