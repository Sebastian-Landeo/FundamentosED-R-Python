{
 "cells": [
  {
   "cell_type": "markdown",
   "id": "06609ca8-b1ce-4cf3-84df-85c1a565ca49",
   "metadata": {},
   "source": [
    "### Histogramas en Python"
   ]
  },
  {
   "cell_type": "markdown",
   "id": "e47e57bd-ead5-4347-ad66-9fdb84c152f7",
   "metadata": {},
   "source": [
    "#### Histogramas en Python puro"
   ]
  },
  {
   "cell_type": "code",
   "execution_count": 4,
   "id": "90c7df58-abb8-43b9-aaf6-7a08790586af",
   "metadata": {},
   "outputs": [],
   "source": [
    "x = (0, 1, 1, 1, 2, 2, 3, 7, 7, 7, 25)"
   ]
  },
  {
   "cell_type": "code",
   "execution_count": 5,
   "id": "8f6ca4a2-57bd-44c5-bfa9-59d3869ae661",
   "metadata": {},
   "outputs": [],
   "source": [
    "def count_elements(seq) -> dict:\n",
    "    \"\"\"\n",
    "    Función que cuenta las frecuencias\n",
    "    de aparición de cada elemento de la\n",
    "    secuencia, creando un diccionario\n",
    "    como si fuese una tabla de frecuencias\n",
    "    \"\"\"\n",
    "    hist = {}\n",
    "    for i in seq:\n",
    "        hist[i] = hist.get(i, 0) + 1\n",
    "    return hist"
   ]
  },
  {
   "cell_type": "code",
   "execution_count": 6,
   "id": "458c3c40-f333-4f66-8b27-79aa653631e8",
   "metadata": {},
   "outputs": [],
   "source": [
    "fAbs = count_elements(x)"
   ]
  },
  {
   "cell_type": "code",
   "execution_count": 7,
   "id": "254b6f0a-e204-4ae7-98a6-be7fe9c6dfb8",
   "metadata": {},
   "outputs": [
    {
     "data": {
      "text/plain": [
       "{0: 1, 1: 3, 2: 2, 3: 1, 7: 3, 25: 1}"
      ]
     },
     "execution_count": 7,
     "metadata": {},
     "output_type": "execute_result"
    }
   ],
   "source": [
    "fAbs"
   ]
  },
  {
   "cell_type": "markdown",
   "id": "ade08629-3d1c-4739-ba3c-5ef5967bb7e0",
   "metadata": {},
   "source": [
    "#### Histograma automatizado"
   ]
  },
  {
   "cell_type": "code",
   "execution_count": 9,
   "id": "c2710a6e-8074-4b2c-8ff0-c9e78f234ee8",
   "metadata": {},
   "outputs": [],
   "source": [
    "from collections import Counter"
   ]
  },
  {
   "cell_type": "code",
   "execution_count": 10,
   "id": "d3a8a15e-758b-4e29-ac08-b96ea641be27",
   "metadata": {},
   "outputs": [],
   "source": [
    "fAbs2 = Counter(x)"
   ]
  },
  {
   "cell_type": "code",
   "execution_count": 11,
   "id": "bda3b896-92c0-4e5a-8ed1-0ef6909188ea",
   "metadata": {},
   "outputs": [
    {
     "data": {
      "text/plain": [
       "Counter({1: 3, 7: 3, 2: 2, 0: 1, 3: 1, 25: 1})"
      ]
     },
     "execution_count": 11,
     "metadata": {},
     "output_type": "execute_result"
    }
   ],
   "source": [
    "fAbs2"
   ]
  },
  {
   "cell_type": "code",
   "execution_count": 12,
   "id": "ac70720d-3468-41fd-9909-5d53885c1d39",
   "metadata": {},
   "outputs": [
    {
     "data": {
      "text/plain": [
       "True"
      ]
     },
     "execution_count": 12,
     "metadata": {},
     "output_type": "execute_result"
    }
   ],
   "source": [
    "fAbs.items() == fAbs2.items()"
   ]
  },
  {
   "cell_type": "code",
   "execution_count": 13,
   "id": "99b04a58-cc62-454f-820a-62a7e62b949b",
   "metadata": {},
   "outputs": [],
   "source": [
    "def ascii_histogram(seq) -> None:\n",
    "    \"\"\"\n",
    "    Un histograma de frecuencias absolutas\n",
    "    colocado en horizontal y con caracteres ASCII\n",
    "    \"\"\"\n",
    "    fAbs = count_elements(seq)\n",
    "    for k in sorted(fAbs):\n",
    "        print(\"{0:5d} {1}\".format(k, \"+\"*fAbs[k]))"
   ]
  },
  {
   "cell_type": "code",
   "execution_count": 14,
   "id": "ade5a08c-4c1b-4349-8fbf-81ad2f09ecbb",
   "metadata": {},
   "outputs": [
    {
     "name": "stdout",
     "output_type": "stream",
     "text": [
      "    0 +\n",
      "    1 +++\n",
      "    2 ++\n",
      "    3 +\n",
      "    7 +++\n",
      "   25 +\n"
     ]
    }
   ],
   "source": [
    "ascii_histogram(x)"
   ]
  },
  {
   "cell_type": "code",
   "execution_count": 15,
   "id": "4c2fff97-6317-4549-88b8-63a110cb801e",
   "metadata": {},
   "outputs": [],
   "source": [
    "import random\n",
    "random.seed(2019)"
   ]
  },
  {
   "cell_type": "code",
   "execution_count": 16,
   "id": "07ac8594-ef8c-4188-8625-6b4e6b5aba06",
   "metadata": {},
   "outputs": [],
   "source": [
    "vals = [1, 2, 3, 5, 7, 8, 9, 10]\n",
    "freqs = (random.randint(5, 20) for _ in vals)"
   ]
  },
  {
   "cell_type": "code",
   "execution_count": 17,
   "id": "9af4f104-f22f-4c12-90f1-b720e6b4043f",
   "metadata": {},
   "outputs": [],
   "source": [
    "data = []\n",
    "for k, v in zip(vals, freqs):\n",
    "    data.extend([k]*v)"
   ]
  },
  {
   "cell_type": "code",
   "execution_count": 18,
   "id": "9df6110f-b87f-4e15-be44-4fed5359ee72",
   "metadata": {},
   "outputs": [
    {
     "name": "stdout",
     "output_type": "stream",
     "text": [
      "    1 +++++++++\n",
      "    2 ++++++++++++\n",
      "    3 ++++++++++++++++++++\n",
      "    5 ++++++++++\n",
      "    7 ++++++++++++\n",
      "    8 ++++++++++++\n",
      "    9 +++++++++++++++\n",
      "   10 ++++++++++++++\n"
     ]
    }
   ],
   "source": [
    "ascii_histogram(data)"
   ]
  },
  {
   "cell_type": "markdown",
   "id": "319bed0b-cd94-45c3-9835-9b526e57004a",
   "metadata": {},
   "source": [
    "### Histogramas con NumPy"
   ]
  },
  {
   "cell_type": "code",
   "execution_count": 20,
   "id": "78daeb25-cb73-47f7-89ab-0d74b49e0fc8",
   "metadata": {},
   "outputs": [],
   "source": [
    "import numpy as np"
   ]
  },
  {
   "cell_type": "code",
   "execution_count": 21,
   "id": "986085f0-c854-410b-87d4-16af08c99122",
   "metadata": {},
   "outputs": [],
   "source": [
    "np.random.seed(2019)"
   ]
  },
  {
   "cell_type": "code",
   "execution_count": 22,
   "id": "24955b7f-f944-4b76-8db3-613b5ea61735",
   "metadata": {},
   "outputs": [],
   "source": [
    "np.set_printoptions(3)"
   ]
  },
  {
   "cell_type": "code",
   "execution_count": 23,
   "id": "f6ffd320-4a1c-443d-bd96-9fe175d731d3",
   "metadata": {},
   "outputs": [],
   "source": [
    "x = np.random.laplace(loc=10, scale=3, size=1000)"
   ]
  },
  {
   "cell_type": "code",
   "execution_count": 24,
   "id": "95e6f71e-bf9f-4064-9bc7-eef0aaf8b4e6",
   "metadata": {},
   "outputs": [
    {
     "data": {
      "text/plain": [
       "array([14.935,  9.278, 10.855, 10.968, 14.294,  8.459, 11.555, 14.926,\n",
       "       14.316,  9.373])"
      ]
     },
     "execution_count": 24,
     "metadata": {},
     "output_type": "execute_result"
    }
   ],
   "source": [
    "x[:10]"
   ]
  },
  {
   "cell_type": "code",
   "execution_count": 25,
   "id": "6af34ecd-d1ae-4f7c-b3f7-34d1f8e81a97",
   "metadata": {},
   "outputs": [],
   "source": [
    "hist, bin_edges = np.histogram(x)"
   ]
  },
  {
   "cell_type": "code",
   "execution_count": 26,
   "id": "2fe1ce90-16d0-4d94-a97d-cd021655152d",
   "metadata": {},
   "outputs": [
    {
     "data": {
      "text/plain": [
       "array([  1,   0,   0,   8,  48, 194, 542, 167,  31,   9], dtype=int64)"
      ]
     },
     "execution_count": 26,
     "metadata": {},
     "output_type": "execute_result"
    }
   ],
   "source": [
    "hist"
   ]
  },
  {
   "cell_type": "code",
   "execution_count": 27,
   "id": "c4530eff-b08e-438e-a72a-73f6950621fc",
   "metadata": {},
   "outputs": [
    {
     "data": {
      "text/plain": [
       "array([-19.167, -14.642, -10.118,  -5.593,  -1.069,   3.455,   7.98 ,\n",
       "        12.504,  17.029,  21.553,  26.077])"
      ]
     },
     "execution_count": 27,
     "metadata": {},
     "output_type": "execute_result"
    }
   ],
   "source": [
    "bin_edges"
   ]
  },
  {
   "cell_type": "code",
   "execution_count": 28,
   "id": "be84278b-188e-4ffc-bf5d-697d223f5ad0",
   "metadata": {},
   "outputs": [
    {
     "data": {
      "text/plain": [
       "(10, 11)"
      ]
     },
     "execution_count": 28,
     "metadata": {},
     "output_type": "execute_result"
    }
   ],
   "source": [
    "hist.size, bin_edges.size # Se genera una tupla"
   ]
  },
  {
   "cell_type": "markdown",
   "id": "0f58bcdf-551e-49ce-b56d-e045c04a7ac3",
   "metadata": {},
   "source": [
    "#### Numpy lo trabaja así"
   ]
  },
  {
   "cell_type": "code",
   "execution_count": 30,
   "id": "d1e9cf2b-2bab-4537-8a68-d5c8eec5de6b",
   "metadata": {},
   "outputs": [],
   "source": [
    "min_edge = x.min()\n",
    "max_edge = x.max()"
   ]
  },
  {
   "cell_type": "code",
   "execution_count": 31,
   "id": "44f5d353-4d6d-4d4f-8b5d-c9b5de3900af",
   "metadata": {},
   "outputs": [],
   "source": [
    "n_bins = 10\n",
    "bin_edges = np.linspace(start=min_edge, stop=max_edge, num=n_bins+1, endpoint=True)"
   ]
  },
  {
   "cell_type": "code",
   "execution_count": 32,
   "id": "1b3f07f5-e9dc-4940-8a76-f950c0a34f0f",
   "metadata": {},
   "outputs": [
    {
     "data": {
      "text/plain": [
       "array([-19.167, -14.642, -10.118,  -5.593,  -1.069,   3.455,   7.98 ,\n",
       "        12.504,  17.029,  21.553,  26.077])"
      ]
     },
     "execution_count": 32,
     "metadata": {},
     "output_type": "execute_result"
    }
   ],
   "source": [
    "bin_edges"
   ]
  },
  {
   "cell_type": "code",
   "execution_count": 33,
   "id": "91b9bcfe-429e-475a-ba32-3f8a79a45149",
   "metadata": {},
   "outputs": [],
   "source": [
    "x = (0, 1, 1, 1, 2, 2, 3, 7, 7, 7, 25)"
   ]
  },
  {
   "cell_type": "code",
   "execution_count": 34,
   "id": "369dd942-d08b-4013-9a28-1582c33cd21c",
   "metadata": {},
   "outputs": [
    {
     "data": {
      "text/plain": [
       "array([1, 3, 2, 1, 0, 0, 0, 3, 0, 0, 0, 0, 0, 0, 0, 0, 0, 0, 0, 0, 0, 0,\n",
       "       0, 0, 0, 1], dtype=int64)"
      ]
     },
     "execution_count": 34,
     "metadata": {},
     "output_type": "execute_result"
    }
   ],
   "source": [
    "bcount = np.bincount(x)\n",
    "bcount"
   ]
  },
  {
   "cell_type": "code",
   "execution_count": 35,
   "id": "5d23e9f9-c6aa-4fd9-b042-a81312b5f94b",
   "metadata": {},
   "outputs": [],
   "source": [
    "hist, _ = np.histogram(x, range=(0, max(x)), bins=max(x)+1)"
   ]
  },
  {
   "cell_type": "code",
   "execution_count": 36,
   "id": "5e117813-1d3f-4a1e-bc91-8e0e98c3ab6f",
   "metadata": {},
   "outputs": [
    {
     "data": {
      "text/plain": [
       "array([1, 3, 2, 1, 0, 0, 0, 3, 0, 0, 0, 0, 0, 0, 0, 0, 0, 0, 0, 0, 0, 0,\n",
       "       0, 0, 0, 1], dtype=int64)"
      ]
     },
     "execution_count": 36,
     "metadata": {},
     "output_type": "execute_result"
    }
   ],
   "source": [
    "hist"
   ]
  },
  {
   "cell_type": "code",
   "execution_count": 37,
   "id": "3e04122d-7063-44fd-bf04-1838c7ce0171",
   "metadata": {},
   "outputs": [
    {
     "data": {
      "text/plain": [
       "True"
      ]
     },
     "execution_count": 37,
     "metadata": {},
     "output_type": "execute_result"
    }
   ],
   "source": [
    "np.array_equal(bcount, hist)"
   ]
  },
  {
   "cell_type": "code",
   "execution_count": 38,
   "id": "9012d894-b57b-4e25-97a0-340e32eae030",
   "metadata": {},
   "outputs": [
    {
     "data": {
      "text/plain": [
       "{0: 1, 1: 3, 2: 2, 3: 1, 7: 3, 25: 1}"
      ]
     },
     "execution_count": 38,
     "metadata": {},
     "output_type": "execute_result"
    }
   ],
   "source": [
    "dict(zip(np.unique(x), bcount[bcount.nonzero()]))"
   ]
  },
  {
   "cell_type": "markdown",
   "id": "b206d1fc-e997-49e5-8c1e-b7f0e6f442c8",
   "metadata": {},
   "source": [
    "### Visualización de histogramas con matplotlib y Pandas"
   ]
  },
  {
   "cell_type": "code",
   "execution_count": 40,
   "id": "cb12a789-2c23-4b54-acbc-4d89e0bbd080",
   "metadata": {},
   "outputs": [],
   "source": [
    "import matplotlib.pyplot as plt"
   ]
  },
  {
   "cell_type": "code",
   "execution_count": 41,
   "id": "f509f00c-4e7b-49dc-bc20-1596c449aad4",
   "metadata": {},
   "outputs": [],
   "source": [
    "np.random.seed(2019)\n",
    "x = np.random.laplace(loc=10, scale=3, size=1000)"
   ]
  },
  {
   "cell_type": "code",
   "execution_count": 42,
   "id": "0cdeca7f-87ea-488a-a69e-3cc2df022e88",
   "metadata": {},
   "outputs": [
    {
     "data": {
      "text/plain": [
       "(0.0, 140.0)"
      ]
     },
     "execution_count": 42,
     "metadata": {},
     "output_type": "execute_result"
    },
    {
     "data": {
      "image/png": "[encoded data removed]",
      "text/plain": [
       "<Figure size 640x480 with 1 Axes>"
      ]
     },
     "metadata": {},
     "output_type": "display_data"
    }
   ],
   "source": [
    "n, bins, patches = plt.hist(x=x, bins=\"auto\", color=\"#0505a5\", alpha=0.75, rwidth=0.85)\n",
    "plt.grid(axis=\"y\", alpha=0.5)\n",
    "plt.xlabel(\"Valor\")\n",
    "plt.ylabel(\"Frecuencia\")\n",
    "plt.title(\"Un histograma de frecuencias\")\n",
    "plt.text(-10, 80, r\"$\\mu = 10, b = 3$\")\n",
    "maxfreq = n.max()\n",
    "plt.ylim(ymax=np.ceil(maxfreq/10)*10 if maxfreq % 10 else maxfreq + 10)"
   ]
  },
  {
   "cell_type": "code",
   "execution_count": 43,
   "id": "0a437192-47d0-4ea0-a672-8fb1b9b25f24",
   "metadata": {},
   "outputs": [
    {
     "data": {
      "text/plain": [
       "array([  1.,   0.,   0.,   0.,   0.,   0.,   0.,   0.,   0.,   0.,   0.,\n",
       "         0.,   0.,   0.,   0.,   0.,   0.,   0.,   0.,   0.,   3.,   0.,\n",
       "         4.,   5.,   8.,   4.,   7.,  12.,  13.,  15.,  15.,  23.,  39.,\n",
       "        53.,  62.,  81., 113., 132.,  92.,  77.,  54.,  42.,  35.,  31.,\n",
       "        20.,  14.,   9.,  10.,   3.,   5.,   5.,   4.,   3.,   1.,   2.,\n",
       "         0.,   2.,   1.])"
      ]
     },
     "execution_count": 43,
     "metadata": {},
     "output_type": "execute_result"
    }
   ],
   "source": [
    "n"
   ]
  },
  {
   "cell_type": "code",
   "execution_count": 44,
   "id": "b89dddfa-4a6f-4208-b585-86a6cd8ffe16",
   "metadata": {},
   "outputs": [
    {
     "data": {
      "text/plain": [
       "array([-19.167, -18.387, -17.606, -16.826, -16.046, -15.266, -14.486,\n",
       "       -13.706, -12.926, -12.146, -11.366, -10.586,  -9.806,  -9.026,\n",
       "        -8.246,  -7.466,  -6.685,  -5.905,  -5.125,  -4.345,  -3.565,\n",
       "        -2.785,  -2.005,  -1.225,  -0.445,   0.335,   1.115,   1.895,\n",
       "         2.675,   3.455,   4.236,   5.016,   5.796,   6.576,   7.356,\n",
       "         8.136,   8.916,   9.696,  10.476,  11.256,  12.036,  12.816,\n",
       "        13.596,  14.376,  15.157,  15.937,  16.717,  17.497,  18.277,\n",
       "        19.057,  19.837,  20.617,  21.397,  22.177,  22.957,  23.737,\n",
       "        24.517,  25.297,  26.077])"
      ]
     },
     "execution_count": 44,
     "metadata": {},
     "output_type": "execute_result"
    }
   ],
   "source": [
    "bins"
   ]
  },
  {
   "cell_type": "code",
   "execution_count": 45,
   "id": "c33516a7-095b-4261-81e1-d97019b2beff",
   "metadata": {},
   "outputs": [
    {
     "data": {
      "text/plain": [
       "<BarContainer object of 58 artists>"
      ]
     },
     "execution_count": 45,
     "metadata": {},
     "output_type": "execute_result"
    }
   ],
   "source": [
    "patches"
   ]
  },
  {
   "cell_type": "code",
   "execution_count": 46,
   "id": "136c94ee-7f08-41d0-a824-c54918b05d76",
   "metadata": {},
   "outputs": [],
   "source": [
    "import pandas as pd"
   ]
  },
  {
   "cell_type": "code",
   "execution_count": 47,
   "id": "50ca0de2-b87b-41df-8b83-498bbcafba50",
   "metadata": {},
   "outputs": [],
   "source": [
    "scale, size = 10, 1000\n",
    "data = pd.Series(np.random.gamma(scale, size=size))"
   ]
  },
  {
   "cell_type": "code",
   "execution_count": 48,
   "id": "3e591197-8084-4cda-bf0e-3cd123b11a65",
   "metadata": {},
   "outputs": [
    {
     "data": {
      "image/png": "[encoded data removed]",
      "text/plain": [
       "<Figure size 640x480 with 1 Axes>"
      ]
     },
     "metadata": {},
     "output_type": "display_data"
    }
   ],
   "source": [
    "data.plot.hist(grid=True, bins=20, rwidth=0.9, color=\"#d52675\")\n",
    "plt.title(\"Distribución Gamma\")\n",
    "plt.xlabel(\"Valores\")\n",
    "plt.ylabel(\"Frecuencias\")\n",
    "plt.grid(axis=\"y\", alpha=0.75)"
   ]
  },
  {
   "cell_type": "markdown",
   "id": "5ceae9c3-c993-4e25-a3c4-acb9ff9c73bb",
   "metadata": {},
   "source": [
    "### Funciones de densidad y de probabilidad"
   ]
  },
  {
   "cell_type": "code",
   "execution_count": 50,
   "id": "54771177-e7f0-4242-a647-36f4424e42ca",
   "metadata": {},
   "outputs": [],
   "source": [
    "mu = 10, 20\n",
    "sigma = 5, 2\n",
    "dist = pd.DataFrame(np.random.normal(loc=mu, scale=sigma,\n",
    "                                     size=(1000, 2)), columns=[\"x1\", \"x2\"])"
   ]
  },
  {
   "cell_type": "code",
   "execution_count": 51,
   "id": "03d4b6df-0e87-4b35-81f9-38f2adda76a9",
   "metadata": {},
   "outputs": [
    {
     "data": {
      "text/html": [
       "<div>\n",
       "<style scoped>\n",
       "    .dataframe tbody tr th:only-of-type {\n",
       "        vertical-align: middle;\n",
       "    }\n",
       "\n",
       "    .dataframe tbody tr th {\n",
       "        vertical-align: top;\n",
       "    }\n",
       "\n",
       "    .dataframe thead th {\n",
       "        text-align: right;\n",
       "    }\n",
       "</style>\n",
       "<table border=\"1\" class=\"dataframe\">\n",
       "  <thead>\n",
       "    <tr style=\"text-align: right;\">\n",
       "      <th></th>\n",
       "      <th>x1</th>\n",
       "      <th>x2</th>\n",
       "    </tr>\n",
       "  </thead>\n",
       "  <tbody>\n",
       "    <tr>\n",
       "      <th>min</th>\n",
       "      <td>-5.83</td>\n",
       "      <td>13.84</td>\n",
       "    </tr>\n",
       "    <tr>\n",
       "      <th>max</th>\n",
       "      <td>26.05</td>\n",
       "      <td>27.17</td>\n",
       "    </tr>\n",
       "    <tr>\n",
       "      <th>mean</th>\n",
       "      <td>9.96</td>\n",
       "      <td>19.89</td>\n",
       "    </tr>\n",
       "    <tr>\n",
       "      <th>std</th>\n",
       "      <td>4.97</td>\n",
       "      <td>1.96</td>\n",
       "    </tr>\n",
       "  </tbody>\n",
       "</table>\n",
       "</div>"
      ],
      "text/plain": [
       "         x1     x2\n",
       "min   -5.83  13.84\n",
       "max   26.05  27.17\n",
       "mean   9.96  19.89\n",
       "std    4.97   1.96"
      ]
     },
     "execution_count": 51,
     "metadata": {},
     "output_type": "execute_result"
    }
   ],
   "source": [
    "dist.agg([\"min\", \"max\", \"mean\", \"std\"]).round(decimals=2)"
   ]
  },
  {
   "cell_type": "code",
   "execution_count": 52,
   "id": "f0113ea1-036f-47e6-ac3a-56cbbd9fa56b",
   "metadata": {},
   "outputs": [
    {
     "data": {
      "image/png": "[encoded data removed]",
      "text/plain": [
       "<Figure size 640x480 with 1 Axes>"
      ]
     },
     "metadata": {},
     "output_type": "display_data"
    }
   ],
   "source": [
    "fig, ax = plt.subplots()\n",
    "dist.plot.kde(ax=ax, legend=False, title=\"Histograma de dos normales\")\n",
    "dist.plot.hist(density=True, ax=ax)\n",
    "ax.set_ylabel(\"Probabilidad\")\n",
    "ax.grid(axis=\"y\", alpha=0.75)\n",
    "ax.set_facecolor(\"#d5d5d5\")"
   ]
  },
  {
   "cell_type": "code",
   "execution_count": 53,
   "id": "8519635c-2ad8-4404-ac8a-9a9a12607c36",
   "metadata": {},
   "outputs": [],
   "source": [
    "from scipy import stats"
   ]
  },
  {
   "cell_type": "code",
   "execution_count": 54,
   "id": "b3aded03-9794-4641-9cd4-4d50b257ddac",
   "metadata": {},
   "outputs": [],
   "source": [
    "dist = stats.norm() # Distribución normal teórica N(0,1) ~ exp(-x**2/2)/sqrt(2*pi)"
   ]
  },
  {
   "cell_type": "code",
   "execution_count": 55,
   "id": "e5634973-72bd-47c2-aece-a72c1e3e4560",
   "metadata": {},
   "outputs": [
    {
     "data": {
      "text/plain": [
       "-1.5132576254274945"
      ]
     },
     "execution_count": 55,
     "metadata": {},
     "output_type": "execute_result"
    }
   ],
   "source": [
    "sample = dist.rvs(size=1000)\n",
    "sample[2]"
   ]
  },
  {
   "cell_type": "code",
   "execution_count": 56,
   "id": "78d41a1f-9bd6-46e3-ac6f-f4a6d5377eb9",
   "metadata": {},
   "outputs": [
    {
     "data": {
      "text/plain": [
       "-2.3263478740408408"
      ]
     },
     "execution_count": 56,
     "metadata": {},
     "output_type": "execute_result"
    }
   ],
   "source": [
    "stats.norm.ppf(0.01)"
   ]
  },
  {
   "cell_type": "code",
   "execution_count": 57,
   "id": "43545487-6c86-4d91-8377-dde067e7edf0",
   "metadata": {},
   "outputs": [
    {
     "data": {
      "text/plain": [
       "2.3263478740408408"
      ]
     },
     "execution_count": 57,
     "metadata": {},
     "output_type": "execute_result"
    }
   ],
   "source": [
    "stats.norm.ppf(0.99)"
   ]
  },
  {
   "cell_type": "code",
   "execution_count": 58,
   "id": "922b0e52-c599-46c8-a8ba-f029bd70d041",
   "metadata": {},
   "outputs": [],
   "source": [
    "x = np.linspace(start=stats.norm.ppf(0.01), stop=stats.norm.ppf(0.99), num=250)"
   ]
  },
  {
   "cell_type": "code",
   "execution_count": 59,
   "id": "d17ca1ee-8213-47cd-b84d-cf22b7a60bf0",
   "metadata": {},
   "outputs": [],
   "source": [
    "gkde = stats.gaussian_kde(dataset=sample)"
   ]
  },
  {
   "cell_type": "code",
   "execution_count": 60,
   "id": "32ac2635-744e-4cd4-9bf4-85b16a911d9c",
   "metadata": {},
   "outputs": [
    {
     "data": {
      "text/plain": [
       "Text(-2.0, 0.35, '$f(x) = \\\\frac{e^{-x^2/2}}{\\\\sqrt{2\\\\pi}}$')"
      ]
     },
     "execution_count": 60,
     "metadata": {},
     "output_type": "execute_result"
    },
    {
     "data": {
      "image/png": "[encoded data removed]",
      "text/plain": [
       "<Figure size 640x480 with 1 Axes>"
      ]
     },
     "metadata": {},
     "output_type": "display_data"
    }
   ],
   "source": [
    "fig, ax = plt.subplots()\n",
    "ax.plot(x, dist.pdf(x), linestyle=\"solid\",\n",
    "        c=\"red\", lw=3, alpha=0.8, label=\"Distribución normal teórica\")\n",
    "ax.plot(x, gkde.evaluate(x), linestyle=\"dashed\",\n",
    "        c=\"green\", lw=2, label=\"PDF estimada por KDE\")\n",
    "ax.legend(loc=\"best\", frameon=False)\n",
    "ax.set_title(\"Normal analítica vs estimada\")\n",
    "ax.set_ylabel(\"Probabilidad\")\n",
    "ax.text(-2., 0.35, r\"$f(x) = \\frac{e^{-x^2/2}}{\\sqrt{2\\pi}}$\", fontsize=14)"
   ]
  },
  {
   "cell_type": "markdown",
   "id": "daf0a6b0-2bce-4a97-a41e-853e01d18620",
   "metadata": {},
   "source": [
    "### Otras formas"
   ]
  },
  {
   "cell_type": "code",
   "execution_count": 135,
   "id": "720ab0fb-c3c6-4ce0-96d8-6552512d9960",
   "metadata": {},
   "outputs": [],
   "source": [
    "data2 = np.random.choice(np.arange(10), size=10000, p=np.linspace(1, 11, 10)/60)"
   ]
  },
  {
   "cell_type": "code",
   "execution_count": 133,
   "id": "7593eb26-927a-4ae8-a2d9-d51e4cf7d073",
   "metadata": {},
   "outputs": [
    {
     "data": {
      "text/plain": [
       "60.0"
      ]
     },
     "execution_count": 133,
     "metadata": {},
     "output_type": "execute_result"
    }
   ],
   "source": [
    "sum(np.linspace(1, 11, 10))"
   ]
  },
  {
   "cell_type": "code",
   "execution_count": 125,
   "id": "d12e5d73-cd44-4785-b042-428800c34c39",
   "metadata": {},
   "outputs": [],
   "source": [
    "s = pd.Series(data2)"
   ]
  },
  {
   "cell_type": "code",
   "execution_count": 127,
   "id": "647683b2-7a70-437a-84c3-653da5e52c7a",
   "metadata": {},
   "outputs": [
    {
     "data": {
      "text/plain": [
       "9    1840\n",
       "8    1622\n",
       "7    1478\n",
       "6    1276\n",
       "5    1050\n",
       "4     909\n",
       "3     781\n",
       "2     537\n",
       "1     361\n",
       "0     146\n",
       "Name: count, dtype: int64"
      ]
     },
     "execution_count": 127,
     "metadata": {},
     "output_type": "execute_result"
    }
   ],
   "source": [
    "s.value_counts()"
   ]
  },
  {
   "cell_type": "code",
   "execution_count": 131,
   "id": "6c66ab67-e978-4bc5-8249-8bd2c7143645",
   "metadata": {},
   "outputs": [
    {
     "data": {
      "text/plain": [
       "9    0.1840\n",
       "8    0.1622\n",
       "7    0.1478\n",
       "6    0.1276\n",
       "5    0.1050\n",
       "4    0.0909\n",
       "3    0.0781\n",
       "2    0.0537\n",
       "1    0.0361\n",
       "0    0.0146\n",
       "Name: proportion, dtype: float64"
      ]
     },
     "execution_count": 131,
     "metadata": {},
     "output_type": "execute_result"
    }
   ],
   "source": [
    "s.value_counts(normalize=True)"
   ]
  },
  {
   "cell_type": "code",
   "execution_count": 137,
   "id": "4daa25c7-b907-452b-a4a4-efff38a25f6b",
   "metadata": {},
   "outputs": [],
   "source": [
    "ages = pd.Series([1, 1, 3, 5, 6, 8, 9, 10, 12, 15, 18, 18, 18, 20, 25, 30, 40, 51, 52])\n",
    "bins = (0, 10, 15, 18, 21, np.inf)\n",
    "labels = (\"infancia\", \"preadolescencia\", \"adolescencia\", \"universitario\", \"adulto\")\n",
    "groups = pd.cut(ages, bins=bins, labels=labels)"
   ]
  },
  {
   "cell_type": "code",
   "execution_count": 141,
   "id": "0ce91d0d-70db-4bd3-bae5-8233c7be6b11",
   "metadata": {},
   "outputs": [
    {
     "data": {
      "text/plain": [
       "0            infancia\n",
       "1            infancia\n",
       "2            infancia\n",
       "3            infancia\n",
       "4            infancia\n",
       "5            infancia\n",
       "6            infancia\n",
       "7            infancia\n",
       "8     preadolescencia\n",
       "9     preadolescencia\n",
       "10       adolescencia\n",
       "11       adolescencia\n",
       "12       adolescencia\n",
       "13      universitario\n",
       "14             adulto\n",
       "15             adulto\n",
       "16             adulto\n",
       "17             adulto\n",
       "18             adulto\n",
       "dtype: category\n",
       "Categories (5, object): ['infancia' < 'preadolescencia' < 'adolescencia' < 'universitario' < 'adulto']"
      ]
     },
     "execution_count": 141,
     "metadata": {},
     "output_type": "execute_result"
    }
   ],
   "source": [
    "groups"
   ]
  },
  {
   "cell_type": "code",
   "execution_count": 145,
   "id": "79642366-21fd-4e39-ae3b-821e3f2d5610",
   "metadata": {},
   "outputs": [
    {
     "data": {
      "text/plain": [
       "infancia           8\n",
       "adulto             5\n",
       "adolescencia       3\n",
       "preadolescencia    2\n",
       "universitario      1\n",
       "Name: count, dtype: int64"
      ]
     },
     "execution_count": 145,
     "metadata": {},
     "output_type": "execute_result"
    }
   ],
   "source": [
    "groups.value_counts()"
   ]
  },
  {
   "cell_type": "code",
   "execution_count": 147,
   "id": "b77b66c9-1f08-4f5b-ab07-1a51b7b2cded",
   "metadata": {},
   "outputs": [
    {
     "data": {
      "text/html": [
       "<div>\n",
       "<style scoped>\n",
       "    .dataframe tbody tr th:only-of-type {\n",
       "        vertical-align: middle;\n",
       "    }\n",
       "\n",
       "    .dataframe tbody tr th {\n",
       "        vertical-align: top;\n",
       "    }\n",
       "\n",
       "    .dataframe thead th {\n",
       "        text-align: right;\n",
       "    }\n",
       "</style>\n",
       "<table border=\"1\" class=\"dataframe\">\n",
       "  <thead>\n",
       "    <tr style=\"text-align: right;\">\n",
       "      <th></th>\n",
       "      <th>0</th>\n",
       "      <th>1</th>\n",
       "    </tr>\n",
       "  </thead>\n",
       "  <tbody>\n",
       "    <tr>\n",
       "      <th>0</th>\n",
       "      <td>1</td>\n",
       "      <td>infancia</td>\n",
       "    </tr>\n",
       "    <tr>\n",
       "      <th>1</th>\n",
       "      <td>1</td>\n",
       "      <td>infancia</td>\n",
       "    </tr>\n",
       "    <tr>\n",
       "      <th>2</th>\n",
       "      <td>3</td>\n",
       "      <td>infancia</td>\n",
       "    </tr>\n",
       "    <tr>\n",
       "      <th>3</th>\n",
       "      <td>5</td>\n",
       "      <td>infancia</td>\n",
       "    </tr>\n",
       "    <tr>\n",
       "      <th>4</th>\n",
       "      <td>6</td>\n",
       "      <td>infancia</td>\n",
       "    </tr>\n",
       "    <tr>\n",
       "      <th>5</th>\n",
       "      <td>8</td>\n",
       "      <td>infancia</td>\n",
       "    </tr>\n",
       "    <tr>\n",
       "      <th>6</th>\n",
       "      <td>9</td>\n",
       "      <td>infancia</td>\n",
       "    </tr>\n",
       "    <tr>\n",
       "      <th>7</th>\n",
       "      <td>10</td>\n",
       "      <td>infancia</td>\n",
       "    </tr>\n",
       "    <tr>\n",
       "      <th>8</th>\n",
       "      <td>12</td>\n",
       "      <td>preadolescencia</td>\n",
       "    </tr>\n",
       "    <tr>\n",
       "      <th>9</th>\n",
       "      <td>15</td>\n",
       "      <td>preadolescencia</td>\n",
       "    </tr>\n",
       "    <tr>\n",
       "      <th>10</th>\n",
       "      <td>18</td>\n",
       "      <td>adolescencia</td>\n",
       "    </tr>\n",
       "    <tr>\n",
       "      <th>11</th>\n",
       "      <td>18</td>\n",
       "      <td>adolescencia</td>\n",
       "    </tr>\n",
       "    <tr>\n",
       "      <th>12</th>\n",
       "      <td>18</td>\n",
       "      <td>adolescencia</td>\n",
       "    </tr>\n",
       "    <tr>\n",
       "      <th>13</th>\n",
       "      <td>20</td>\n",
       "      <td>universitario</td>\n",
       "    </tr>\n",
       "    <tr>\n",
       "      <th>14</th>\n",
       "      <td>25</td>\n",
       "      <td>adulto</td>\n",
       "    </tr>\n",
       "    <tr>\n",
       "      <th>15</th>\n",
       "      <td>30</td>\n",
       "      <td>adulto</td>\n",
       "    </tr>\n",
       "    <tr>\n",
       "      <th>16</th>\n",
       "      <td>40</td>\n",
       "      <td>adulto</td>\n",
       "    </tr>\n",
       "    <tr>\n",
       "      <th>17</th>\n",
       "      <td>51</td>\n",
       "      <td>adulto</td>\n",
       "    </tr>\n",
       "    <tr>\n",
       "      <th>18</th>\n",
       "      <td>52</td>\n",
       "      <td>adulto</td>\n",
       "    </tr>\n",
       "  </tbody>\n",
       "</table>\n",
       "</div>"
      ],
      "text/plain": [
       "     0                1\n",
       "0    1         infancia\n",
       "1    1         infancia\n",
       "2    3         infancia\n",
       "3    5         infancia\n",
       "4    6         infancia\n",
       "5    8         infancia\n",
       "6    9         infancia\n",
       "7   10         infancia\n",
       "8   12  preadolescencia\n",
       "9   15  preadolescencia\n",
       "10  18     adolescencia\n",
       "11  18     adolescencia\n",
       "12  18     adolescencia\n",
       "13  20    universitario\n",
       "14  25           adulto\n",
       "15  30           adulto\n",
       "16  40           adulto\n",
       "17  51           adulto\n",
       "18  52           adulto"
      ]
     },
     "execution_count": 147,
     "metadata": {},
     "output_type": "execute_result"
    }
   ],
   "source": [
    "pd.concat((ages, groups), axis=1)"
   ]
  }
 ],
 "metadata": {
  "kernelspec": {
   "display_name": "Python 3 (ipykernel)",
   "language": "python",
   "name": "python3"
  },
  "language_info": {
   "codemirror_mode": {
    "name": "ipython",
    "version": 3
   },
   "file_extension": ".py",
   "mimetype": "text/x-python",
   "name": "python",
   "nbconvert_exporter": "python",
   "pygments_lexer": "ipython3",
   "version": "3.11.7"
  }
 },
 "nbformat": 4,
 "nbformat_minor": 5
}
