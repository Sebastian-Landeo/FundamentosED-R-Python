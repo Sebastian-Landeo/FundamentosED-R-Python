{
 "cells": [
  {
   "cell_type": "markdown",
   "id": "c299450a-369e-4b86-85fc-074b6f990d00",
   "metadata": {},
   "source": [
    "## Listas\n",
    "Son contenedores que permiten almacenar una colección de objetos en un orden determinadao. Se pueden acceder, añadir o eliminar objetos de forma sencilla."
   ]
  },
  {
   "cell_type": "code",
   "execution_count": 2,
   "id": "492473a0-34c0-41ab-a9b7-eb2247c5a149",
   "metadata": {
    "tags": []
   },
   "outputs": [],
   "source": [
    "L1 = []"
   ]
  },
  {
   "cell_type": "code",
   "execution_count": 4,
   "id": "2cf88f1c-98a8-4044-ac6c-8dae5bec924d",
   "metadata": {
    "tags": []
   },
   "outputs": [],
   "source": [
    "L2 = ['a','e','i','o','u'] # Listas con valores iniciales"
   ]
  },
  {
   "cell_type": "code",
   "execution_count": 6,
   "id": "42b620de-1d5a-40ad-984b-3d653f0094e0",
   "metadata": {
    "tags": []
   },
   "outputs": [],
   "source": [
    "L3 = [2,3,5,7,11] #Lista con valores enteros"
   ]
  },
  {
   "cell_type": "code",
   "execution_count": 8,
   "id": "41492b6f-2756-4bd6-a45a-e1df45b1657b",
   "metadata": {
    "tags": []
   },
   "outputs": [],
   "source": [
    "L4 = ['a',5,True,\"Juan Gabriel\"] #Lista heterogénea con varios tipos de datos diferentes"
   ]
  },
  {
   "cell_type": "code",
   "execution_count": 10,
   "id": "56c53bdf-50fa-4f00-9a82-e3818732916e",
   "metadata": {
    "tags": []
   },
   "outputs": [
    {
     "data": {
      "text/plain": [
       "['a', 5, True, 'Juan Gabriel']"
      ]
     },
     "execution_count": 10,
     "metadata": {},
     "output_type": "execute_result"
    }
   ],
   "source": [
    "L4"
   ]
  },
  {
   "cell_type": "code",
   "execution_count": 31,
   "id": "d0108555-aafd-4ced-8a8e-f3d4969d2998",
   "metadata": {
    "tags": []
   },
   "outputs": [],
   "source": [
    "L5 = [1]*10"
   ]
  },
  {
   "cell_type": "code",
   "execution_count": 33,
   "id": "cd7d0603-3dd1-4067-b580-dbe0e0407e74",
   "metadata": {
    "tags": []
   },
   "outputs": [
    {
     "data": {
      "text/plain": [
       "[1, 1, 1, 1, 1, 1, 1, 1, 1, 1]"
      ]
     },
     "execution_count": 33,
     "metadata": {},
     "output_type": "execute_result"
    }
   ],
   "source": [
    "L5"
   ]
  },
  {
   "cell_type": "code",
   "execution_count": 24,
   "id": "e1b3eb75-16b4-4e30-bab7-b8c9b964a585",
   "metadata": {
    "tags": []
   },
   "outputs": [
    {
     "data": {
      "text/plain": [
       "5"
      ]
     },
     "execution_count": 24,
     "metadata": {},
     "output_type": "execute_result"
    }
   ],
   "source": [
    "L4[1]"
   ]
  },
  {
   "cell_type": "code",
   "execution_count": 35,
   "id": "169c4993-7fe9-4357-9dcd-01a6dbb36420",
   "metadata": {
    "tags": []
   },
   "outputs": [],
   "source": [
    "L5[4]=3.1415"
   ]
  },
  {
   "cell_type": "code",
   "execution_count": 28,
   "id": "209b832b-0b19-4b01-b51b-caa522c2520f",
   "metadata": {
    "tags": []
   },
   "outputs": [
    {
     "data": {
      "text/plain": [
       "[1, 1, 1, 1, 3.1415, 1, 1, 1, 1, 1]"
      ]
     },
     "execution_count": 28,
     "metadata": {},
     "output_type": "execute_result"
    }
   ],
   "source": [
    "L5"
   ]
  },
  {
   "cell_type": "code",
   "execution_count": 30,
   "id": "f6c27ee3-c3aa-4aef-9132-a773709f59ed",
   "metadata": {
    "tags": []
   },
   "outputs": [
    {
     "data": {
      "text/plain": [
       "['a', 5]"
      ]
     },
     "execution_count": 30,
     "metadata": {},
     "output_type": "execute_result"
    }
   ],
   "source": [
    "L4[0:2]\n"
   ]
  },
  {
   "cell_type": "code",
   "execution_count": 37,
   "id": "4c651c9c-7647-4dc6-8e05-b07eda0d1539",
   "metadata": {
    "tags": []
   },
   "outputs": [],
   "source": [
    "L5[1:4] =[1,2,3]"
   ]
  },
  {
   "cell_type": "code",
   "execution_count": 39,
   "id": "6c13eb9c-1878-4da0-a32b-efca09430d4a",
   "metadata": {
    "tags": []
   },
   "outputs": [
    {
     "data": {
      "text/plain": [
       "[1, 1, 2, 3, 3.1415, 1, 1, 1, 1, 1]"
      ]
     },
     "execution_count": 39,
     "metadata": {},
     "output_type": "execute_result"
    }
   ],
   "source": [
    "L5"
   ]
  },
  {
   "cell_type": "code",
   "execution_count": 41,
   "id": "83aa1c99-3e4f-42e7-926e-8225cef5ccf0",
   "metadata": {
    "tags": []
   },
   "outputs": [],
   "source": [
    "L5.append(8)"
   ]
  },
  {
   "cell_type": "code",
   "execution_count": 43,
   "id": "12931e17-eace-4fd0-8f20-728c8b0c3a8d",
   "metadata": {
    "tags": []
   },
   "outputs": [
    {
     "data": {
      "text/plain": [
       "[1, 1, 2, 3, 3.1415, 1, 1, 1, 1, 1, 8]"
      ]
     },
     "execution_count": 43,
     "metadata": {},
     "output_type": "execute_result"
    }
   ],
   "source": [
    "L5\n"
   ]
  },
  {
   "cell_type": "code",
   "execution_count": 45,
   "id": "bae6684d-aed4-4bbe-9cda-542a0a93e6a3",
   "metadata": {
    "tags": []
   },
   "outputs": [],
   "source": [
    "L5.remove(3)"
   ]
  },
  {
   "cell_type": "code",
   "execution_count": 47,
   "id": "3a5f284d-1ef6-45b3-936f-d67f7d83ae24",
   "metadata": {
    "tags": []
   },
   "outputs": [
    {
     "data": {
      "text/plain": [
       "[1, 1, 2, 3.1415, 1, 1, 1, 1, 1, 8]"
      ]
     },
     "execution_count": 47,
     "metadata": {},
     "output_type": "execute_result"
    }
   ],
   "source": [
    "L5"
   ]
  },
  {
   "cell_type": "code",
   "execution_count": 44,
   "id": "c7d0a320-88a9-4a70-9934-1a786c54172f",
   "metadata": {
    "tags": []
   },
   "outputs": [],
   "source": [
    "L5.reverse()"
   ]
  },
  {
   "cell_type": "code",
   "execution_count": 46,
   "id": "917000eb-afaa-468b-b666-61599180c34f",
   "metadata": {
    "tags": []
   },
   "outputs": [
    {
     "data": {
      "text/plain": [
       "[8, 1, 1, 1, 1, 1, 3.1415, 2, 1, 1]"
      ]
     },
     "execution_count": 46,
     "metadata": {},
     "output_type": "execute_result"
    }
   ],
   "source": [
    "L5\n"
   ]
  },
  {
   "cell_type": "code",
   "execution_count": 49,
   "id": "a3d8949f-99a2-466b-af1f-96ee8c72e06c",
   "metadata": {
    "tags": []
   },
   "outputs": [
    {
     "data": {
      "text/plain": [
       "0"
      ]
     },
     "execution_count": 49,
     "metadata": {},
     "output_type": "execute_result"
    }
   ],
   "source": [
    "L5.count(0)"
   ]
  },
  {
   "cell_type": "code",
   "execution_count": 50,
   "id": "d610fb19-62b4-48b1-bed6-271ff7953b68",
   "metadata": {
    "tags": []
   },
   "outputs": [
    {
     "data": {
      "text/plain": [
       "7"
      ]
     },
     "execution_count": 50,
     "metadata": {},
     "output_type": "execute_result"
    }
   ],
   "source": [
    "L5.index(2)"
   ]
  },
  {
   "cell_type": "code",
   "execution_count": 54,
   "id": "5677f03e-d60e-4dce-b1af-e7453bd6be50",
   "metadata": {
    "tags": []
   },
   "outputs": [
    {
     "data": {
      "text/plain": [
       "4"
      ]
     },
     "execution_count": 54,
     "metadata": {},
     "output_type": "execute_result"
    }
   ],
   "source": [
    "len(L4)"
   ]
  },
  {
   "cell_type": "code",
   "execution_count": 56,
   "id": "633eee1d-7278-4594-996a-41c0b34b6893",
   "metadata": {
    "tags": []
   },
   "outputs": [],
   "source": [
    "L = [1,2,3,4,5,6]"
   ]
  },
  {
   "cell_type": "code",
   "execution_count": 58,
   "id": "43675a79-6b0a-4bab-987e-ac7f55a2c777",
   "metadata": {
    "tags": []
   },
   "outputs": [
    {
     "data": {
      "text/plain": [
       "[2, 4, 6]"
      ]
     },
     "execution_count": 58,
     "metadata": {},
     "output_type": "execute_result"
    }
   ],
   "source": [
    "L[1::2] #Sacar elementos en posición impar"
   ]
  },
  {
   "cell_type": "code",
   "execution_count": 60,
   "id": "7292515d-7c2d-4d2a-ad33-e48629e5cc2b",
   "metadata": {
    "tags": []
   },
   "outputs": [
    {
     "data": {
      "text/plain": [
       "[1, 3, 5]"
      ]
     },
     "execution_count": 60,
     "metadata": {},
     "output_type": "execute_result"
    }
   ],
   "source": [
    "L[::2] #Sacar elementos en posición par"
   ]
  },
  {
   "cell_type": "code",
   "execution_count": 62,
   "id": "ac843efb-dd43-4105-8523-a2e65703b189",
   "metadata": {
    "tags": []
   },
   "outputs": [
    {
     "data": {
      "text/plain": [
       "6"
      ]
     },
     "execution_count": 62,
     "metadata": {},
     "output_type": "execute_result"
    }
   ],
   "source": [
    "L[-1]"
   ]
  },
  {
   "cell_type": "code",
   "execution_count": 64,
   "id": "a169a55c-9a2f-4cd4-97ac-0ec21dd909c9",
   "metadata": {
    "tags": []
   },
   "outputs": [
    {
     "data": {
      "text/plain": [
       "False"
      ]
     },
     "execution_count": 64,
     "metadata": {},
     "output_type": "execute_result"
    }
   ],
   "source": [
    "8 in L"
   ]
  },
  {
   "cell_type": "code",
   "execution_count": 66,
   "id": "0413c62b-65d3-46f2-b67a-0b9d58b1227a",
   "metadata": {
    "tags": []
   },
   "outputs": [
    {
     "data": {
      "text/plain": [
       "True"
      ]
     },
     "execution_count": 66,
     "metadata": {},
     "output_type": "execute_result"
    }
   ],
   "source": [
    "4 in L"
   ]
  },
  {
   "cell_type": "markdown",
   "id": "e81b2c37-b525-49f4-b323-c6d95d74370c",
   "metadata": {
    "tags": []
   },
   "source": [
    "## Bucles\n",
    "Los bucles **for** iteran sobre una colección (una lista, un string, un objeto iterable)"
   ]
  },
  {
   "cell_type": "code",
   "execution_count": 68,
   "id": "1c542696-8749-485b-87f9-4273bab53da4",
   "metadata": {
    "tags": []
   },
   "outputs": [
    {
     "name": "stdout",
     "output_type": "stream",
     "text": [
      "1\n",
      "2\n",
      "3\n",
      "4\n",
      "5\n",
      "6\n"
     ]
    }
   ],
   "source": [
    "for numero in L:\n",
    "    print(numero)"
   ]
  },
  {
   "cell_type": "code",
   "execution_count": 72,
   "id": "3eaf4192-73e1-4541-88fa-749444dd78bd",
   "metadata": {
    "tags": []
   },
   "outputs": [
    {
     "name": "stdout",
     "output_type": "stream",
     "text": [
      "0\n",
      "1\n",
      "2\n",
      "3\n",
      "4\n",
      "5\n",
      "6\n",
      "7\n",
      "8\n",
      "9\n"
     ]
    }
   ],
   "source": [
    "for x in range(0,10): # range(10)=range(0,10)\n",
    "    print(x)"
   ]
  },
  {
   "cell_type": "code",
   "execution_count": 77,
   "id": "0e850702-af5a-4577-8dfc-ffd220c3c1c6",
   "metadata": {
    "tags": []
   },
   "outputs": [
    {
     "name": "stdout",
     "output_type": "stream",
     "text": [
      "6.34\n"
     ]
    }
   ],
   "source": [
    "notas = [3.5, 6.7, 8, 9, 4.5]\n",
    "suma = 0\n",
    "for nota in notas:\n",
    "    suma = suma + nota\n",
    "print(suma/len(notas))"
   ]
  },
  {
   "cell_type": "code",
   "execution_count": 79,
   "id": "f82d0fef-9bc1-4847-81dc-5e59c81c560f",
   "metadata": {
    "tags": []
   },
   "outputs": [
    {
     "name": "stdout",
     "output_type": "stream",
     "text": [
      "0\n",
      "1\n",
      "2\n",
      "3\n",
      "4\n",
      "5\n",
      "6\n",
      "7\n",
      "8\n",
      "9\n"
     ]
    }
   ],
   "source": [
    "count = 0\n",
    "while count < 10:\n",
    "    print(count)\n",
    "    count +=1"
   ]
  },
  {
   "cell_type": "code",
   "execution_count": 4,
   "id": "b2495497-ce28-4162-bfe5-537476193f5d",
   "metadata": {
    "tags": []
   },
   "outputs": [
    {
     "name": "stdout",
     "output_type": "stream",
     "text": [
      "0 2\n",
      "1 3\n",
      "2 5\n",
      "3 7\n",
      "4 11\n",
      "5 13\n",
      "6 17\n",
      "7 19\n",
      "8 23\n",
      "9 29\n"
     ]
    }
   ],
   "source": [
    "primos = [2,3,5,7,11,13,17,19,23,29]\n",
    "for idx, p in enumerate(primos):\n",
    "    print(idx, p)"
   ]
  },
  {
   "cell_type": "markdown",
   "id": "0da1a0b4-f45b-43ef-8f2d-5daf7bce2e52",
   "metadata": {},
   "source": [
    "## Tupla\n",
    "Una tupla es una colección de objetos que no puede modificarse (tiene tamaño y contenido fijo)."
   ]
  },
  {
   "cell_type": "code",
   "execution_count": 3,
   "id": "57e81992-8484-4940-95c6-9ca6bb2fc254",
   "metadata": {
    "tags": []
   },
   "outputs": [],
   "source": [
    "p1 = (1,)"
   ]
  },
  {
   "cell_type": "code",
   "execution_count": 5,
   "id": "80399b48-f37d-4e12-998b-45b315178ea8",
   "metadata": {
    "tags": []
   },
   "outputs": [
    {
     "data": {
      "text/plain": [
       "(1,)"
      ]
     },
     "execution_count": 5,
     "metadata": {},
     "output_type": "execute_result"
    }
   ],
   "source": [
    "p1"
   ]
  },
  {
   "cell_type": "code",
   "execution_count": 7,
   "id": "8115a7fb-7b7c-427f-b4b0-b829165d2b79",
   "metadata": {
    "tags": []
   },
   "outputs": [],
   "source": [
    "p2 = (1,2,3,4)"
   ]
  },
  {
   "cell_type": "code",
   "execution_count": 9,
   "id": "69214270-afeb-44a9-8d9e-1886c9a6c1c4",
   "metadata": {
    "tags": []
   },
   "outputs": [
    {
     "data": {
      "text/plain": [
       "(1, 2, 3, 4)"
      ]
     },
     "execution_count": 9,
     "metadata": {},
     "output_type": "execute_result"
    }
   ],
   "source": [
    "p2"
   ]
  },
  {
   "cell_type": "code",
   "execution_count": 11,
   "id": "b21e9a59-a348-4a7e-af12-dae31515dae1",
   "metadata": {
    "tags": []
   },
   "outputs": [],
   "source": [
    "p3 = (1,2,'c',3.1415)"
   ]
  },
  {
   "cell_type": "code",
   "execution_count": 13,
   "id": "43a464f8-7c8a-4cc3-a0aa-8245c479dddf",
   "metadata": {
    "tags": []
   },
   "outputs": [
    {
     "data": {
      "text/plain": [
       "(1, 2, 'c', 3.1415)"
      ]
     },
     "execution_count": 13,
     "metadata": {},
     "output_type": "execute_result"
    }
   ],
   "source": [
    "p3"
   ]
  },
  {
   "cell_type": "code",
   "execution_count": 15,
   "id": "fac5f7ec-d069-4f0a-b4e7-63bbb532a9da",
   "metadata": {
    "tags": []
   },
   "outputs": [
    {
     "data": {
      "text/plain": [
       "1"
      ]
     },
     "execution_count": 15,
     "metadata": {},
     "output_type": "execute_result"
    }
   ],
   "source": [
    "p3[0]"
   ]
  },
  {
   "cell_type": "code",
   "execution_count": 17,
   "id": "aded4057-e948-4b65-86f5-852cd71c5916",
   "metadata": {
    "tags": []
   },
   "outputs": [],
   "source": [
    "a, b, c, d = p3"
   ]
  },
  {
   "cell_type": "code",
   "execution_count": 19,
   "id": "ef333558-d1df-439b-b181-e1a1d31144bf",
   "metadata": {
    "tags": []
   },
   "outputs": [
    {
     "data": {
      "text/plain": [
       "1"
      ]
     },
     "execution_count": 19,
     "metadata": {},
     "output_type": "execute_result"
    }
   ],
   "source": [
    "a"
   ]
  },
  {
   "cell_type": "code",
   "execution_count": 21,
   "id": "25b242b4-5063-4cd8-b39a-e398b55b1c5d",
   "metadata": {
    "tags": []
   },
   "outputs": [
    {
     "data": {
      "text/plain": [
       "2"
      ]
     },
     "execution_count": 21,
     "metadata": {},
     "output_type": "execute_result"
    }
   ],
   "source": [
    "b"
   ]
  },
  {
   "cell_type": "code",
   "execution_count": 23,
   "id": "8bcd927e-4e09-4a73-8b5d-a7bc88b933cc",
   "metadata": {
    "tags": []
   },
   "outputs": [
    {
     "data": {
      "text/plain": [
       "'c'"
      ]
     },
     "execution_count": 23,
     "metadata": {},
     "output_type": "execute_result"
    }
   ],
   "source": [
    "c"
   ]
  },
  {
   "cell_type": "code",
   "execution_count": 25,
   "id": "152a0707-093e-4b23-aaf6-16b132af10a8",
   "metadata": {
    "tags": []
   },
   "outputs": [
    {
     "data": {
      "text/plain": [
       "3.1415"
      ]
     },
     "execution_count": 25,
     "metadata": {},
     "output_type": "execute_result"
    }
   ],
   "source": [
    "d"
   ]
  },
  {
   "cell_type": "code",
   "execution_count": 27,
   "id": "d4bd0de4-d7e8-4d33-b5ed-e8cb9ab3dce3",
   "metadata": {
    "tags": []
   },
   "outputs": [
    {
     "data": {
      "text/plain": [
       "[1, 2, 'c', 3.1415]"
      ]
     },
     "execution_count": 27,
     "metadata": {},
     "output_type": "execute_result"
    }
   ],
   "source": [
    "l3 = list(p3)\n",
    "l3"
   ]
  },
  {
   "cell_type": "code",
   "execution_count": 51,
   "id": "2a42b8dc-bd7c-4514-a84b-94834ae254ed",
   "metadata": {
    "tags": []
   },
   "outputs": [
    {
     "data": {
      "text/plain": [
       "(1, 1, 2, 3.1415, 1, 1, 1, 1, 1, 8)"
      ]
     },
     "execution_count": 51,
     "metadata": {},
     "output_type": "execute_result"
    }
   ],
   "source": [
    "p5 = tuple(L5)\n",
    "p5"
   ]
  },
  {
   "cell_type": "code",
   "execution_count": 53,
   "id": "c7fcafad-8f3c-4622-8d6b-f8f1ff4f7049",
   "metadata": {
    "tags": []
   },
   "outputs": [
    {
     "data": {
      "text/plain": [
       "['Hola', 'que', 'tal', 'estás']"
      ]
     },
     "execution_count": 53,
     "metadata": {},
     "output_type": "execute_result"
    }
   ],
   "source": [
    "\"Hola que tal estás\".split(\" \")"
   ]
  },
  {
   "cell_type": "code",
   "execution_count": 55,
   "id": "f6c32a7f-5a32-4434-9106-d655f9ddc177",
   "metadata": {
    "tags": []
   },
   "outputs": [
    {
     "data": {
      "text/plain": [
       "['4', '6', '2', '7', '9', '4', '2']"
      ]
     },
     "execution_count": 55,
     "metadata": {},
     "output_type": "execute_result"
    }
   ],
   "source": [
    "\"4,6,2,7,9,4,2\".split(\",\")"
   ]
  },
  {
   "cell_type": "code",
   "execution_count": 59,
   "id": "3702d631-66d6-4f5a-87ad-0c5116cc7ef8",
   "metadata": {
    "tags": []
   },
   "outputs": [
    {
     "name": "stdout",
     "output_type": "stream",
     "text": [
      "Hola\n"
     ]
    }
   ],
   "source": [
    " a = 'Hola'\n",
    " print(a)"
   ]
  },
  {
   "cell_type": "code",
   "execution_count": 63,
   "id": "cb3159dc-cce0-4d94-9ab9-7c4b387fea10",
   "metadata": {
    "tags": []
   },
   "outputs": [
    {
     "name": "stdin",
     "output_type": "stream",
     "text": [
      "Escribe números separados por comas. 3,6,9,12,15\n"
     ]
    },
    {
     "name": "stdout",
     "output_type": "stream",
     "text": [
      "['3', '6', '9', '12', '15']\n",
      "('3', '6', '9', '12', '15')\n"
     ]
    }
   ],
   "source": [
    "numeros = input(\"Escribe números separados por comas.\")\n",
    "numeroL = numeros.split(\",\")\n",
    "print(numerosL)\n",
    "numerosT = tuple(numerosL)\n",
    "print(numerosT)"
   ]
  },
  {
   "cell_type": "code",
   "execution_count": 69,
   "id": "b3b3390a-47be-4269-92c2-0375202e9f2f",
   "metadata": {
    "tags": []
   },
   "outputs": [
    {
     "name": "stdout",
     "output_type": "stream",
     "text": [
      "4\n",
      "7\n",
      "10\n",
      "13\n",
      "16\n"
     ]
    }
   ],
   "source": [
    "for n in numerosT:\n",
    "    print(int(n)+1)"
   ]
  },
  {
   "cell_type": "markdown",
   "id": "0323b8e6-cb82-44ef-ab88-9d8b15825ba2",
   "metadata": {},
   "source": [
    "## Diccionario\n",
    "Coleccion no ordenada de pares de valores: claves <-> valores. Se indexa no por posición, si no utilizando las claves"
   ]
  },
  {
   "cell_type": "code",
   "execution_count": 2,
   "id": "eabacc5b-0b50-4efa-8b06-2566ea9b3ac5",
   "metadata": {
    "tags": []
   },
   "outputs": [
    {
     "name": "stdin",
     "output_type": "stream",
     "text": [
      "Introduce aquí tu nombre Juan\n"
     ]
    },
    {
     "name": "stdout",
     "output_type": "stream",
     "text": [
      "Hola Juan\n"
     ]
    }
   ],
   "source": [
    "nombre = input(\"Introduce aquí tu nombre\")\n",
    "print(\"Hola %s\" %nombre)"
   ]
  },
  {
   "cell_type": "code",
   "execution_count": 6,
   "id": "6d0168cf-ea5f-4cff-96a0-36d521238a2a",
   "metadata": {
    "tags": []
   },
   "outputs": [
    {
     "name": "stdout",
     "output_type": "stream",
     "text": [
      "Estos son los números primos: [2, 3, 5, 7, 11, 13, 17, 19, 23, 29]\n"
     ]
    }
   ],
   "source": [
    "print(\"Estos son los números primos: %s\" %primos)"
   ]
  },
  {
   "cell_type": "code",
   "execution_count": 10,
   "id": "f48288b3-88df-4c34-bb25-7570db680220",
   "metadata": {
    "tags": []
   },
   "outputs": [
    {
     "name": "stdout",
     "output_type": "stream",
     "text": [
      "Esto es un número: 32\n"
     ]
    }
   ],
   "source": [
    "suma = 32.5\n",
    "print(\"Esto es un número: %d\" %suma)"
   ]
  },
  {
   "cell_type": "code",
   "execution_count": 14,
   "id": "5f56a5fb-9f49-4f86-9a0d-3d9763c8aa8c",
   "metadata": {
    "tags": []
   },
   "outputs": [
    {
     "name": "stdout",
     "output_type": "stream",
     "text": [
      "Esto es un número decimal: 10.833333\n",
      "Esto es un número decimal: 11\n"
     ]
    }
   ],
   "source": [
    "media = suma/3\n",
    "print(\"Esto es un número decimal: %f\" %media)\n",
    "print(\"Esto es un número decimal: %.0f\" %media)"
   ]
  },
  {
   "cell_type": "code",
   "execution_count": 1,
   "id": "512f218c-bba3-4cac-91a5-a4a31e28d7e2",
   "metadata": {
    "tags": []
   },
   "outputs": [],
   "source": [
    "edad = {\n",
    "    \"Juan Gabriel\":30, \n",
    "    \"María\":20,\n",
    "    \"Ricardo\":53, \n",
    "    \"Antonio\":45\n",
    "}"
   ]
  },
  {
   "cell_type": "code",
   "execution_count": 3,
   "id": "6112a139-21e9-4c9a-85da-53d8e1ddfd58",
   "metadata": {
    "tags": []
   },
   "outputs": [
    {
     "data": {
      "text/plain": [
       "53"
      ]
     },
     "execution_count": 3,
     "metadata": {},
     "output_type": "execute_result"
    }
   ],
   "source": [
    "edad[\"Ricardo\"]"
   ]
  },
  {
   "cell_type": "code",
   "execution_count": 6,
   "id": "b852d72a-cbac-4e59-9c1b-f6682ad33590",
   "metadata": {},
   "outputs": [],
   "source": [
    "edad[\"Ricardo\"] = 52\n"
   ]
  },
  {
   "cell_type": "code",
   "execution_count": 8,
   "id": "5dbe35f7-d915-4fc1-a95f-1f10e00efe8c",
   "metadata": {
    "tags": []
   },
   "outputs": [
    {
     "data": {
      "text/plain": [
       "{'Juan Gabriel': 30, 'María': 20, 'Ricardo': 52, 'Antonio': 45}"
      ]
     },
     "execution_count": 8,
     "metadata": {},
     "output_type": "execute_result"
    }
   ],
   "source": [
    "edad\n"
   ]
  },
  {
   "cell_type": "code",
   "execution_count": 10,
   "id": "38fe3431-dd87-402f-8868-e6414a90f634",
   "metadata": {
    "tags": []
   },
   "outputs": [
    {
     "data": {
      "text/plain": [
       "dict_keys(['Juan Gabriel', 'María', 'Ricardo', 'Antonio'])"
      ]
     },
     "execution_count": 10,
     "metadata": {},
     "output_type": "execute_result"
    }
   ],
   "source": [
    "edad.keys()"
   ]
  },
  {
   "cell_type": "code",
   "execution_count": 12,
   "id": "46b6fcf9-8404-4c94-99a1-070205e32154",
   "metadata": {
    "tags": []
   },
   "outputs": [
    {
     "data": {
      "text/plain": [
       "dict_values([30, 20, 52, 45])"
      ]
     },
     "execution_count": 12,
     "metadata": {},
     "output_type": "execute_result"
    }
   ],
   "source": [
    "edad.values()"
   ]
  },
  {
   "cell_type": "code",
   "execution_count": 14,
   "id": "09a6bf63-09fb-406b-aa36-1320b611e33b",
   "metadata": {
    "tags": []
   },
   "outputs": [
    {
     "data": {
      "text/plain": [
       "False"
      ]
     },
     "execution_count": 14,
     "metadata": {},
     "output_type": "execute_result"
    }
   ],
   "source": [
    "\"Pepe\" in edad"
   ]
  },
  {
   "cell_type": "code",
   "execution_count": 16,
   "id": "7d54eb86-9c27-4196-8e7d-3f810813477b",
   "metadata": {
    "tags": []
   },
   "outputs": [
    {
     "data": {
      "text/plain": [
       "True"
      ]
     },
     "execution_count": 16,
     "metadata": {},
     "output_type": "execute_result"
    }
   ],
   "source": [
    "\"María\" in edad"
   ]
  },
  {
   "cell_type": "code",
   "execution_count": 18,
   "id": "218ae452-4663-4ebe-a72c-946739b9fe88",
   "metadata": {
    "tags": []
   },
   "outputs": [
    {
     "data": {
      "text/plain": [
       "True"
      ]
     },
     "execution_count": 18,
     "metadata": {},
     "output_type": "execute_result"
    }
   ],
   "source": [
    "\"Mario\" not in edad"
   ]
  },
  {
   "cell_type": "code",
   "execution_count": 20,
   "id": "607020aa-3bcb-468c-b088-bf83272d4bd1",
   "metadata": {
    "tags": []
   },
   "outputs": [],
   "source": [
    "del edad[\"Antonio\"]"
   ]
  },
  {
   "cell_type": "code",
   "execution_count": 22,
   "id": "e57c8f20-8b2d-4dda-9657-a06c93b54f88",
   "metadata": {
    "tags": []
   },
   "outputs": [
    {
     "data": {
      "text/plain": [
       "{'Juan Gabriel': 30, 'María': 20, 'Ricardo': 52}"
      ]
     },
     "execution_count": 22,
     "metadata": {},
     "output_type": "execute_result"
    }
   ],
   "source": [
    "edad"
   ]
  },
  {
   "cell_type": "code",
   "execution_count": 26,
   "id": "f76b4195-a38f-4cd9-a996-a516c0b03013",
   "metadata": {
    "tags": []
   },
   "outputs": [
    {
     "data": {
      "text/plain": [
       "{'Al1': 5.6, 'Al2': 7.5, 'Al3': 10, 'Al4': 52}"
      ]
     },
     "execution_count": 26,
     "metadata": {},
     "output_type": "execute_result"
    }
   ],
   "source": [
    "notas = {\"Al1\":5.6, \"Al2\": 7.5, \"Al3\":10, \"Al4\":52}\n",
    "notas"
   ]
  },
  {
   "cell_type": "code",
   "execution_count": null,
   "id": "a769833d-9cd3-4f41-924d-ca36a9608750",
   "metadata": {},
   "outputs": [],
   "source": []
  },
  {
   "cell_type": "code",
   "execution_count": null,
   "id": "2c81350b-b0bc-4eb4-8574-a91d3e75c528",
   "metadata": {},
   "outputs": [],
   "source": []
  }
 ],
 "metadata": {
  "kernelspec": {
   "display_name": "Python 3 (ipykernel)",
   "language": "python",
   "name": "python3"
  },
  "language_info": {
   "codemirror_mode": {
    "name": "ipython",
    "version": 3
   },
   "file_extension": ".py",
   "mimetype": "text/x-python",
   "name": "python",
   "nbconvert_exporter": "python",
   "pygments_lexer": "ipython3",
   "version": "3.11.7"
  }
 },
 "nbformat": 4,
 "nbformat_minor": 5
}
