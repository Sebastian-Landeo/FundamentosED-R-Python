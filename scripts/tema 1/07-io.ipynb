{
 "cells": [
  {
   "cell_type": "code",
   "execution_count": 3,
   "id": "3207767e-1391-4223-8902-5b7c98819c50",
   "metadata": {
    "tags": []
   },
   "outputs": [
    {
     "name": "stdout",
     "output_type": "stream",
     "text": [
      "Hola, me llamo Sebastian Landeo Cuentas\n"
     ]
    }
   ],
   "source": [
    "print(\"Hola, me llamo Sebastian Landeo Cuentas\")"
   ]
  },
  {
   "cell_type": "code",
   "execution_count": 9,
   "id": "9026695d-fa0e-467c-bcda-83776da5ed63",
   "metadata": {
    "tags": []
   },
   "outputs": [
    {
     "name": "stdout",
     "output_type": "stream",
     "text": [
      "5\n"
     ]
    }
   ],
   "source": [
    "x = 5\n",
    "print(x)"
   ]
  },
  {
   "cell_type": "code",
   "execution_count": 13,
   "id": "257b4731-c722-4937-893c-2221010d45d1",
   "metadata": {
    "tags": []
   },
   "outputs": [
    {
     "name": "stdout",
     "output_type": "stream",
     "text": [
      "El valor de la variable x es: 5\n"
     ]
    }
   ],
   "source": [
    "print(\"El valor de la variable x es: \"+str(x))"
   ]
  },
  {
   "cell_type": "code",
   "execution_count": 21,
   "id": "68581035-e22e-4529-80ce-f8d77317719d",
   "metadata": {
    "tags": []
   },
   "outputs": [
    {
     "name": "stdin",
     "output_type": "stream",
     "text": [
      "Introduce aquí tu nombre:  Sebastian Landeo\n"
     ]
    }
   ],
   "source": [
    "texto = input(\"Introduce aquí tu nombre: \")"
   ]
  },
  {
   "cell_type": "code",
   "execution_count": 25,
   "id": "340500f2-458c-4767-a782-bd9315d5fbbd",
   "metadata": {
    "tags": []
   },
   "outputs": [
    {
     "data": {
      "text/plain": [
       "'Sebastian Landeo'"
      ]
     },
     "execution_count": 25,
     "metadata": {},
     "output_type": "execute_result"
    }
   ],
   "source": [
    "texto"
   ]
  },
  {
   "cell_type": "code",
   "execution_count": 29,
   "id": "57aac872-f4d5-4b94-9731-e712e32f649a",
   "metadata": {
    "tags": []
   },
   "outputs": [
    {
     "name": "stdin",
     "output_type": "stream",
     "text": [
      "Introduce aquí tu edad:  22\n"
     ]
    }
   ],
   "source": [
    "numero = int(input(\"Introduce aquí tu edad: \"))"
   ]
  },
  {
   "cell_type": "code",
   "execution_count": 33,
   "id": "6862b2b5-22b1-4b6e-9f00-7f2853d34e92",
   "metadata": {
    "tags": []
   },
   "outputs": [
    {
     "data": {
      "text/plain": [
       "22"
      ]
     },
     "execution_count": 33,
     "metadata": {},
     "output_type": "execute_result"
    }
   ],
   "source": [
    "numero"
   ]
  },
  {
   "cell_type": "code",
   "execution_count": 39,
   "id": "50e59d89-2d3f-423a-a5f6-e2eb2929c19c",
   "metadata": {
    "tags": []
   },
   "outputs": [],
   "source": [
    "x = 5"
   ]
  },
  {
   "cell_type": "code",
   "execution_count": 43,
   "id": "588e03e0-3aa3-4c5a-82b0-7f8c432f7056",
   "metadata": {
    "tags": []
   },
   "outputs": [
    {
     "name": "stdout",
     "output_type": "stream",
     "text": [
      "5\n"
     ]
    }
   ],
   "source": [
    "print(x)"
   ]
  },
  {
   "cell_type": "code",
   "execution_count": 47,
   "id": "e92119f0-883a-4d6c-aff2-a83c235b7825",
   "metadata": {
    "tags": []
   },
   "outputs": [],
   "source": [
    "x = 'j'"
   ]
  },
  {
   "cell_type": "code",
   "execution_count": 49,
   "id": "74690b1f-147c-4d31-980f-6b2ffe73c7d2",
   "metadata": {
    "tags": []
   },
   "outputs": [
    {
     "name": "stdout",
     "output_type": "stream",
     "text": [
      "j\n"
     ]
    }
   ],
   "source": [
    "print(x)"
   ]
  },
  {
   "cell_type": "code",
   "execution_count": 53,
   "id": "78b769da-e3d6-4b68-ac63-178b613463e1",
   "metadata": {
    "tags": []
   },
   "outputs": [],
   "source": [
    "x = 3.1415"
   ]
  },
  {
   "cell_type": "code",
   "execution_count": 55,
   "id": "9d253d49-baee-46a2-9e38-af94b017f64f",
   "metadata": {
    "tags": []
   },
   "outputs": [
    {
     "name": "stdout",
     "output_type": "stream",
     "text": [
      "3.1415\n"
     ]
    }
   ],
   "source": [
    "print(x)"
   ]
  },
  {
   "cell_type": "code",
   "execution_count": 57,
   "id": "f11744c2-c575-4d0f-b90e-b92c1fb861ba",
   "metadata": {
    "tags": []
   },
   "outputs": [],
   "source": [
    "x = True"
   ]
  },
  {
   "cell_type": "code",
   "execution_count": 59,
   "id": "8ceaae62-eedb-4ea9-8c8d-d576e5a15523",
   "metadata": {
    "tags": []
   },
   "outputs": [
    {
     "name": "stdout",
     "output_type": "stream",
     "text": [
      "True\n"
     ]
    }
   ],
   "source": [
    "print(x)"
   ]
  },
  {
   "cell_type": "code",
   "execution_count": 63,
   "id": "825cde1c-b113-45dd-9a32-dcab87673468",
   "metadata": {
    "tags": []
   },
   "outputs": [],
   "source": [
    "x = 'h'"
   ]
  },
  {
   "cell_type": "code",
   "execution_count": 67,
   "id": "b7d1e37b-46d5-429a-8d87-6710831b3e0d",
   "metadata": {
    "tags": []
   },
   "outputs": [
    {
     "name": "stdout",
     "output_type": "stream",
     "text": [
      "La variable x ahora se trata de un carácter: h\n"
     ]
    }
   ],
   "source": [
    "print(\"La variable x ahora se trata de un carácter: \"+ x)"
   ]
  },
  {
   "cell_type": "code",
   "execution_count": 71,
   "id": "4989096b-2cb4-4316-b75d-e487f9d0dab3",
   "metadata": {
    "tags": []
   },
   "outputs": [],
   "source": [
    "x = 10000"
   ]
  },
  {
   "cell_type": "code",
   "execution_count": 73,
   "id": "4165fbbe-37d5-48cb-83f7-fde1179747cd",
   "metadata": {
    "tags": []
   },
   "outputs": [
    {
     "name": "stdout",
     "output_type": "stream",
     "text": [
      "La variable x ahora se trata de un número: 10000\n"
     ]
    }
   ],
   "source": [
    "print(\"La variable x ahora se trata de un número: \"+ str(x))"
   ]
  },
  {
   "cell_type": "markdown",
   "id": "ebe3a438-5756-42b9-af55-198efb605969",
   "metadata": {},
   "source": [
    "# Operadores de desición"
   ]
  },
  {
   "cell_type": "code",
   "execution_count": 79,
   "id": "292397a3-5df9-49b4-ac7c-d7afda0707fb",
   "metadata": {
    "tags": []
   },
   "outputs": [
    {
     "name": "stdin",
     "output_type": "stream",
     "text": [
      "Escribir un número:  5\n"
     ]
    }
   ],
   "source": [
    "x = int(input(\"Escribir un número: \"))"
   ]
  },
  {
   "cell_type": "code",
   "execution_count": 85,
   "id": "ab55bade-965d-4db5-a68e-6ea7135178c8",
   "metadata": {
    "tags": []
   },
   "outputs": [
    {
     "name": "stdout",
     "output_type": "stream",
     "text": [
      "Has escrito el número 5\n"
     ]
    }
   ],
   "source": [
    "if x == 5:\n",
    "    print(\"Has escrito el número 5\")"
   ]
  },
  {
   "cell_type": "code",
   "execution_count": 91,
   "id": "88fef716-e83c-44dc-977b-43543d834c4f",
   "metadata": {
    "tags": []
   },
   "outputs": [
    {
     "name": "stdin",
     "output_type": "stream",
     "text": [
      "Escribe un número 9\n"
     ]
    },
    {
     "name": "stdout",
     "output_type": "stream",
     "text": [
      "Has escrito un número menor que 10 y mayor igual que 5\n"
     ]
    }
   ],
   "source": [
    "x = int(input(\"Escribe un número\"))\n",
    "if x < 5:\n",
    "    print(\"Has escrito un número menor que 5\")\n",
    "if x < 10:\n",
    "    print(\"Has escrito un número menor que 10 y mayor igual que 5\")\n",
    "else:\n",
    "    print(\"El número que has escrito es mayor o igual que 10\")"
   ]
  },
  {
   "cell_type": "code",
   "execution_count": 95,
   "id": "58788cb9-1ca6-4003-90e8-71ba1ff01342",
   "metadata": {
    "tags": []
   },
   "outputs": [
    {
     "name": "stdin",
     "output_type": "stream",
     "text": [
      "Escribe un numero:  5\n"
     ]
    },
    {
     "name": "stdout",
     "output_type": "stream",
     "text": [
      "Tu numero escrito no se encuentra del rango [0,10]\n"
     ]
    }
   ],
   "source": [
    "x = int(input(\"Escribe un numero: \"))\n",
    "if x>0 and x<10:\n",
    "    print(\"Tu numero escrito no se encuentra del rango [0,10]\")"
   ]
  },
  {
   "cell_type": "code",
   "execution_count": null,
   "id": "7d8a7854-944c-468a-bb21-d97b7f558069",
   "metadata": {
    "tags": []
   },
   "outputs": [],
   "source": [
    "x = int(input(\"Escribe un numero: \"))\n",
    "if x<0 or x>10:\n",
    "    print(\"Tu numero se encuentra fuera del rango [0,10]\")"
   ]
  },
  {
   "cell_type": "markdown",
   "id": "d73af75e-9878-4542-9824-bc92e1c01374",
   "metadata": {},
   "source": [
    "## Fuciones Matemáticas"
   ]
  },
  {
   "cell_type": "code",
   "execution_count": 12,
   "id": "319adb8f-97f8-48bf-b3db-6ecf97f0f9a3",
   "metadata": {
    "tags": []
   },
   "outputs": [
    {
     "data": {
      "text/plain": [
       "20.085536923187668"
      ]
     },
     "execution_count": 12,
     "metadata": {},
     "output_type": "execute_result"
    }
   ],
   "source": [
    "math.exp(3)"
   ]
  },
  {
   "cell_type": "code",
   "execution_count": 22,
   "id": "4bc863f6-3cd7-4430-824d-98b6390dbdf0",
   "metadata": {
    "tags": []
   },
   "outputs": [
    {
     "data": {
      "text/plain": [
       "20.085536923187664"
      ]
     },
     "execution_count": 22,
     "metadata": {},
     "output_type": "execute_result"
    }
   ],
   "source": [
    "math.e**3"
   ]
  },
  {
   "cell_type": "code",
   "execution_count": 24,
   "id": "24b17e8b-cfb7-47eb-a549-45eeaa454e7f",
   "metadata": {
    "tags": []
   },
   "outputs": [
    {
     "data": {
      "text/plain": [
       "20.085536923187664"
      ]
     },
     "execution_count": 24,
     "metadata": {},
     "output_type": "execute_result"
    }
   ],
   "source": [
    "math.pow(math.e,3)"
   ]
  },
  {
   "cell_type": "code",
   "execution_count": 36,
   "id": "25cecc67-f131-4470-9f03-d357f580931d",
   "metadata": {
    "tags": []
   },
   "outputs": [
    {
     "data": {
      "text/plain": [
       "1.718281828459045"
      ]
     },
     "execution_count": 36,
     "metadata": {},
     "output_type": "execute_result"
    }
   ],
   "source": [
    "math.expm1(1)"
   ]
  },
  {
   "cell_type": "code",
   "execution_count": 28,
   "id": "48b4da05-9abf-4f97-a1c1-26ad1c90cd75",
   "metadata": {
    "tags": []
   },
   "outputs": [
    {
     "data": {
      "text/plain": [
       "1.718281828459045"
      ]
     },
     "execution_count": 28,
     "metadata": {},
     "output_type": "execute_result"
    }
   ],
   "source": [
    "math.exp(1)-1"
   ]
  },
  {
   "cell_type": "code",
   "execution_count": 44,
   "id": "b7cffff5-005b-48d8-9055-489bfeb07f58",
   "metadata": {
    "tags": []
   },
   "outputs": [
    {
     "data": {
      "text/plain": [
       "1.0000050000069649e-05"
      ]
     },
     "execution_count": 44,
     "metadata": {},
     "output_type": "execute_result"
    }
   ],
   "source": [
    "math.exp(1e-05)-1"
   ]
  },
  {
   "cell_type": "code",
   "execution_count": 46,
   "id": "52f85a93-c83b-489c-9675-28f8488ec5b4",
   "metadata": {
    "tags": []
   },
   "outputs": [
    {
     "data": {
      "text/plain": [
       "1.0000050000166668e-05"
      ]
     },
     "execution_count": 46,
     "metadata": {},
     "output_type": "execute_result"
    }
   ],
   "source": [
    "math.expm1(1e-05)"
   ]
  },
  {
   "cell_type": "code",
   "execution_count": 50,
   "id": "e5b3c710-42d6-4fed-b589-d79015d6b2a3",
   "metadata": {
    "tags": []
   },
   "outputs": [
    {
     "data": {
      "text/plain": [
       "2.4849066497880004"
      ]
     },
     "execution_count": 50,
     "metadata": {},
     "output_type": "execute_result"
    }
   ],
   "source": [
    "math.log(12)"
   ]
  },
  {
   "cell_type": "code",
   "execution_count": 52,
   "id": "5d21af49-5baf-4717-a3c1-c0a539e8623e",
   "metadata": {
    "tags": []
   },
   "outputs": [
    {
     "data": {
      "text/plain": [
       "3.5849625007211565"
      ]
     },
     "execution_count": 52,
     "metadata": {},
     "output_type": "execute_result"
    }
   ],
   "source": [
    "math.log(12,2)"
   ]
  },
  {
   "cell_type": "code",
   "execution_count": 55,
   "id": "808cdc5c-267d-4eb9-b8c8-cd8e4e251996",
   "metadata": {
    "tags": []
   },
   "outputs": [
    {
     "data": {
      "text/plain": [
       "9.99995000033333e-06"
      ]
     },
     "execution_count": 55,
     "metadata": {},
     "output_type": "execute_result"
    }
   ],
   "source": [
    "math.log1p(1e-5)"
   ]
  },
  {
   "cell_type": "code",
   "execution_count": 63,
   "id": "1b089371-9ee4-40b0-981e-4725e2070a3c",
   "metadata": {
    "tags": []
   },
   "outputs": [
    {
     "data": {
      "text/plain": [
       "5.0"
      ]
     },
     "execution_count": 63,
     "metadata": {},
     "output_type": "execute_result"
    }
   ],
   "source": [
    "math.log2(32)"
   ]
  },
  {
   "cell_type": "code",
   "execution_count": 66,
   "id": "bb1a9de9-db04-40bf-9b1e-82df9d2e3997",
   "metadata": {
    "tags": []
   },
   "outputs": [
    {
     "data": {
      "text/plain": [
       "6.0"
      ]
     },
     "execution_count": 66,
     "metadata": {},
     "output_type": "execute_result"
    }
   ],
   "source": [
    "math.log10(1000000)"
   ]
  },
  {
   "cell_type": "code",
   "execution_count": 68,
   "id": "aa22cb71-c8ce-4315-b945-cf5e5dc191a1",
   "metadata": {
    "tags": []
   },
   "outputs": [
    {
     "data": {
      "text/plain": [
       "8.0"
      ]
     },
     "execution_count": 68,
     "metadata": {},
     "output_type": "execute_result"
    }
   ],
   "source": [
    "math.sqrt(64)"
   ]
  },
  {
   "cell_type": "code",
   "execution_count": 76,
   "id": "6b944727-dc4c-432b-976d-a7d8a81b9573",
   "metadata": {
    "tags": []
   },
   "outputs": [
    {
     "data": {
      "text/plain": [
       "1.2246467991473532e-16"
      ]
     },
     "execution_count": 76,
     "metadata": {},
     "output_type": "execute_result"
    }
   ],
   "source": [
    "math.sin(math.pi)"
   ]
  },
  {
   "cell_type": "code",
   "execution_count": 78,
   "id": "2ec32a8b-17f7-4c0f-96f5-2f8a5cb6ae65",
   "metadata": {
    "tags": []
   },
   "outputs": [
    {
     "data": {
      "text/plain": [
       "-0.8011526357338304"
      ]
     },
     "execution_count": 78,
     "metadata": {},
     "output_type": "execute_result"
    }
   ],
   "source": [
    "math.sin(180)"
   ]
  },
  {
   "cell_type": "code",
   "execution_count": 80,
   "id": "517416cd-b4be-490a-9124-c14a75fae254",
   "metadata": {
    "tags": []
   },
   "outputs": [
    {
     "data": {
      "text/plain": [
       "-1.0"
      ]
     },
     "execution_count": 80,
     "metadata": {},
     "output_type": "execute_result"
    }
   ],
   "source": [
    "math.cos(math.pi)"
   ]
  },
  {
   "cell_type": "code",
   "execution_count": 82,
   "id": "b93986cb-11de-4eea-be0c-4fff2dc51365",
   "metadata": {
    "tags": []
   },
   "outputs": [
    {
     "data": {
      "text/plain": [
       "1.633123935319537e+16"
      ]
     },
     "execution_count": 82,
     "metadata": {},
     "output_type": "execute_result"
    }
   ],
   "source": [
    "math.tan(math.pi/2)"
   ]
  },
  {
   "cell_type": "code",
   "execution_count": 86,
   "id": "25db357c-2066-4d63-a5ab-ac4b248f6182",
   "metadata": {
    "tags": []
   },
   "outputs": [
    {
     "data": {
      "text/plain": [
       "1.5707963267948966"
      ]
     },
     "execution_count": 86,
     "metadata": {},
     "output_type": "execute_result"
    }
   ],
   "source": [
    "math.asin(1)"
   ]
  },
  {
   "cell_type": "code",
   "execution_count": 92,
   "id": "b9ef1562-efc8-4bba-a2ea-f62bcbe81540",
   "metadata": {
    "tags": []
   },
   "outputs": [
    {
     "data": {
      "text/plain": [
       "0.0"
      ]
     },
     "execution_count": 92,
     "metadata": {},
     "output_type": "execute_result"
    }
   ],
   "source": [
    "math.acos(1)"
   ]
  },
  {
   "cell_type": "code",
   "execution_count": 96,
   "id": "764890c2-600a-47b7-8aa3-f869163d809a",
   "metadata": {
    "tags": []
   },
   "outputs": [
    {
     "data": {
      "text/plain": [
       "0.7853981633974483"
      ]
     },
     "execution_count": 96,
     "metadata": {},
     "output_type": "execute_result"
    }
   ],
   "source": [
    "math.atan(1)"
   ]
  },
  {
   "cell_type": "code",
   "execution_count": null,
   "id": "e5e7ae12-a2e8-4e29-87c9-e072aec53d2d",
   "metadata": {},
   "outputs": [],
   "source": [
    "math.degrees()"
   ]
  },
  {
   "cell_type": "code",
   "execution_count": 14,
   "id": "f7fe8a29-cec6-499e-9aee-72b7a6dafee7",
   "metadata": {
    "tags": []
   },
   "outputs": [
    {
     "data": {
      "text/plain": [
       "45.0"
      ]
     },
     "execution_count": 14,
     "metadata": {},
     "output_type": "execute_result"
    }
   ],
   "source": [
    "math.degrees(0.7853981633974483)"
   ]
  },
  {
   "cell_type": "code",
   "execution_count": 10,
   "id": "6eaf00b4-76ea-49b5-8587-b767dad6b5bc",
   "metadata": {
    "tags": []
   },
   "outputs": [],
   "source": [
    "import math"
   ]
  },
  {
   "cell_type": "code",
   "execution_count": 18,
   "id": "9efefb5e-b684-432a-9464-aaca7ef32c4c",
   "metadata": {
    "tags": []
   },
   "outputs": [
    {
     "data": {
      "text/plain": [
       "1.0471975511965976"
      ]
     },
     "execution_count": 18,
     "metadata": {},
     "output_type": "execute_result"
    }
   ],
   "source": [
    "math.radians(60)"
   ]
  },
  {
   "cell_type": "code",
   "execution_count": 20,
   "id": "a52f77a4-1471-4706-a1a6-6fb03c02583b",
   "metadata": {
    "tags": []
   },
   "outputs": [
    {
     "data": {
      "text/plain": [
       "0.5000000000000001"
      ]
     },
     "execution_count": 20,
     "metadata": {},
     "output_type": "execute_result"
    }
   ],
   "source": [
    "math.cos(math.radians(60))"
   ]
  },
  {
   "cell_type": "code",
   "execution_count": 22,
   "id": "96b2547f-78c8-4786-be86-9ac9bf288665",
   "metadata": {
    "tags": []
   },
   "outputs": [
    {
     "data": {
      "text/plain": [
       "5.0"
      ]
     },
     "execution_count": 22,
     "metadata": {},
     "output_type": "execute_result"
    }
   ],
   "source": [
    "math.hypot(3,4)"
   ]
  },
  {
   "cell_type": "code",
   "execution_count": 26,
   "id": "f6ad768b-ce53-42f1-91e5-80b0578b2a0c",
   "metadata": {
    "tags": []
   },
   "outputs": [
    {
     "data": {
      "text/plain": [
       "53.13010235415598"
      ]
     },
     "execution_count": 26,
     "metadata": {},
     "output_type": "execute_result"
    }
   ],
   "source": [
    "math.degrees(math.atan2(4,3))"
   ]
  },
  {
   "cell_type": "markdown",
   "id": "89287a69-533d-4876-abf8-812858b4cd59",
   "metadata": {},
   "source": [
    "## Funciones en Python"
   ]
  },
  {
   "cell_type": "code",
   "execution_count": 18,
   "id": "a407c000-7300-4834-8765-87b09546bdbb",
   "metadata": {
    "tags": []
   },
   "outputs": [],
   "source": [
    "def suma(x,y):\n",
    "    return x+y"
   ]
  },
  {
   "cell_type": "code",
   "execution_count": 6,
   "id": "d9bc3e91-cb8a-4368-be56-b3ddc3835d26",
   "metadata": {
    "tags": []
   },
   "outputs": [],
   "source": [
    "class Operaciones(object):\n",
    "    def suma(self, x, y):\n",
    "        self.resultado = x+y\n",
    "        return self.resultado"
   ]
  },
  {
   "cell_type": "code",
   "execution_count": 3,
   "id": "7ad95d80-dd62-41c2-8910-a8d187ce16f5",
   "metadata": {
    "tags": []
   },
   "outputs": [
    {
     "data": {
      "text/plain": [
       "5"
      ]
     },
     "execution_count": 3,
     "metadata": {},
     "output_type": "execute_result"
    }
   ],
   "source": [
    "suma(2,3)"
   ]
  },
  {
   "cell_type": "code",
   "execution_count": 8,
   "id": "d069425a-a3d4-4a57-bb27-32e9328acd74",
   "metadata": {
    "tags": []
   },
   "outputs": [
    {
     "data": {
      "text/plain": [
       "5"
      ]
     },
     "execution_count": 8,
     "metadata": {},
     "output_type": "execute_result"
    }
   ],
   "source": [
    "operInstance = Operaciones()\n",
    "operInstance.suma(2,3)"
   ]
  },
  {
   "cell_type": "code",
   "execution_count": 12,
   "id": "22390e01-40cf-4459-bf58-ef9f54c2230b",
   "metadata": {
    "tags": []
   },
   "outputs": [],
   "source": [
    "def saludar():\n",
    "    name = str(input(\"Introduce tu nombre: \"))\n",
    "    if name:\n",
    "        print(\"Hola \"+name)\n",
    "    else:\n",
    "        print(\"Hola estoy programando\")"
   ]
  },
  {
   "cell_type": "code",
   "execution_count": 14,
   "id": "52752b25-0196-4c36-b83a-5c0508849823",
   "metadata": {
    "tags": []
   },
   "outputs": [
    {
     "name": "stdin",
     "output_type": "stream",
     "text": [
      "Introduce tu nombre:  \n"
     ]
    },
    {
     "name": "stdout",
     "output_type": "stream",
     "text": [
      "Hola estoy programando\n"
     ]
    }
   ],
   "source": [
    "saludar()"
   ]
  },
  {
   "cell_type": "code",
   "execution_count": 22,
   "id": "eb8b2a14-02aa-4352-8537-3654339a253e",
   "metadata": {
    "tags": []
   },
   "outputs": [
    {
     "data": {
      "text/plain": [
       "25"
      ]
     },
     "execution_count": 22,
     "metadata": {},
     "output_type": "execute_result"
    }
   ],
   "source": [
    "suma(2,3)*5"
   ]
  },
  {
   "cell_type": "code",
   "execution_count": 40,
   "id": "8ecc9d2c-08ab-4ead-8cb7-4fa4b1e00204",
   "metadata": {
    "tags": []
   },
   "outputs": [],
   "source": [
    "def buscaPares():\n",
    "    for x in range(10):\n",
    "        if x % 2 == 0:\n",
    "            return\n",
    "    print(\"Fin de la ejecución\")"
   ]
  },
  {
   "cell_type": "code",
   "execution_count": 42,
   "id": "19a6b5c6-458e-47b9-b7a1-89774fd5c880",
   "metadata": {
    "tags": []
   },
   "outputs": [],
   "source": [
    "buscaPares()"
   ]
  },
  {
   "cell_type": "code",
   "execution_count": 46,
   "id": "f679bcfb-2591-4b08-a036-bd7f58d3c6c4",
   "metadata": {
    "tags": []
   },
   "outputs": [],
   "source": [
    "def sumaresta(x,y):\n",
    "    suma = x+y\n",
    "    resta = x-y\n",
    "    return (suma, resta)"
   ]
  },
  {
   "cell_type": "code",
   "execution_count": 50,
   "id": "26c38c35-a6a0-444b-83b3-15b0abc82b4c",
   "metadata": {
    "tags": []
   },
   "outputs": [
    {
     "data": {
      "text/plain": [
       "(5, -1)"
      ]
     },
     "execution_count": 50,
     "metadata": {},
     "output_type": "execute_result"
    }
   ],
   "source": [
    "sumaresta(x=2,y=3)"
   ]
  },
  {
   "cell_type": "code",
   "execution_count": 54,
   "id": "4006e109-f69a-4ebb-9cc6-4b5a3a42684a",
   "metadata": {
    "tags": []
   },
   "outputs": [],
   "source": [
    "def suma(*args):\n",
    "    return sum(args)"
   ]
  },
  {
   "cell_type": "code",
   "execution_count": 58,
   "id": "4dbde97c-56ef-4bd1-b732-d58ddb9a901e",
   "metadata": {
    "tags": []
   },
   "outputs": [
    {
     "data": {
      "text/plain": [
       "3"
      ]
     },
     "execution_count": 58,
     "metadata": {},
     "output_type": "execute_result"
    }
   ],
   "source": [
    "suma(1,2)"
   ]
  },
  {
   "cell_type": "code",
   "execution_count": 62,
   "id": "9885a303-b2cf-4669-8dde-2967925baa71",
   "metadata": {
    "tags": []
   },
   "outputs": [
    {
     "data": {
      "text/plain": [
       "14"
      ]
     },
     "execution_count": 62,
     "metadata": {},
     "output_type": "execute_result"
    }
   ],
   "source": [
    "suma(1,5,8)"
   ]
  },
  {
   "cell_type": "code",
   "execution_count": 66,
   "id": "0aa2f336-be8b-4937-b6e1-0cfaebaac161",
   "metadata": {
    "tags": []
   },
   "outputs": [
    {
     "data": {
      "text/plain": [
       "55.5"
      ]
     },
     "execution_count": 66,
     "metadata": {},
     "output_type": "execute_result"
    }
   ],
   "source": [
    "suma(1,2,3,4,5,6,7,8,9,10.5)"
   ]
  },
  {
   "cell_type": "code",
   "execution_count": 72,
   "id": "338f0cf5-b4f9-45e7-b2f8-c257f14f7949",
   "metadata": {
    "tags": []
   },
   "outputs": [],
   "source": [
    "def sumacuadrados(*datos):\n",
    "    total = 0\n",
    "    for d in datos:\n",
    "        total = total + d**2\n",
    "    return total"
   ]
  },
  {
   "cell_type": "code",
   "execution_count": 76,
   "id": "8f4ca614-5845-4a4a-a50b-b5814e6b3030",
   "metadata": {
    "tags": []
   },
   "outputs": [
    {
     "data": {
      "text/plain": [
       "14"
      ]
     },
     "execution_count": 76,
     "metadata": {},
     "output_type": "execute_result"
    }
   ],
   "source": [
    "sumacuadrados(1,2,3)"
   ]
  },
  {
   "cell_type": "code",
   "execution_count": 80,
   "id": "5b4590cb-4697-4d31-a8b4-b2565ae2d8ab",
   "metadata": {
    "tags": []
   },
   "outputs": [
    {
     "data": {
      "text/plain": [
       "133.65000000000003"
      ]
     },
     "execution_count": 80,
     "metadata": {},
     "output_type": "execute_result"
    }
   ],
   "source": [
    "sumacuadrados(2.5,5.6,9.8)"
   ]
  },
  {
   "cell_type": "code",
   "execution_count": 84,
   "id": "360966b9-b220-4331-ae56-34b8fab8ff59",
   "metadata": {
    "tags": []
   },
   "outputs": [],
   "source": [
    "doble = lambda x: x*2"
   ]
  },
  {
   "cell_type": "code",
   "execution_count": 86,
   "id": "9598038e-7630-4a8b-84f2-b313aa56831e",
   "metadata": {
    "tags": []
   },
   "outputs": [
    {
     "data": {
      "text/plain": [
       "8"
      ]
     },
     "execution_count": 86,
     "metadata": {},
     "output_type": "execute_result"
    }
   ],
   "source": [
    "doble(4)"
   ]
  },
  {
   "cell_type": "code",
   "execution_count": 108,
   "id": "13a0e653-6da4-4a0f-974f-6ec318ff0968",
   "metadata": {
    "tags": []
   },
   "outputs": [],
   "source": [
    "cuadrado = lambda x:x**2"
   ]
  },
  {
   "cell_type": "code",
   "execution_count": 110,
   "id": "3f681d68-eff8-4bf9-8ba3-88d28b79600b",
   "metadata": {
    "tags": []
   },
   "outputs": [
    {
     "data": {
      "text/plain": [
       "25"
      ]
     },
     "execution_count": 110,
     "metadata": {},
     "output_type": "execute_result"
    }
   ],
   "source": [
    "cuadrado(5)"
   ]
  },
  {
   "cell_type": "code",
   "execution_count": 112,
   "id": "a0f7470c-e9e0-4861-bb34-51751d4d35fa",
   "metadata": {
    "tags": []
   },
   "outputs": [],
   "source": [
    "cuadrado = lambda x,y : x+y"
   ]
  },
  {
   "cell_type": "code",
   "execution_count": 116,
   "id": "a62b8e04-4291-4e87-8843-4534e89b787c",
   "metadata": {
    "tags": []
   },
   "outputs": [
    {
     "data": {
      "text/plain": [
       "5"
      ]
     },
     "execution_count": 116,
     "metadata": {},
     "output_type": "execute_result"
    }
   ],
   "source": [
    "suma(2,3)"
   ]
  },
  {
   "cell_type": "code",
   "execution_count": 118,
   "id": "89a46600-2204-424a-b904-870f6c38b232",
   "metadata": {
    "tags": []
   },
   "outputs": [],
   "source": [
    "from functools import reduce"
   ]
  },
  {
   "cell_type": "code",
   "execution_count": 122,
   "id": "8b7b5d64-8fb7-41b6-83a2-18b1fd2e713a",
   "metadata": {
    "tags": []
   },
   "outputs": [],
   "source": [
    "data = [1,2,3,4,5,6,7,8,9,10]"
   ]
  },
  {
   "cell_type": "code",
   "execution_count": 126,
   "id": "07827716-2f6d-4d3d-af52-e4561e360edd",
   "metadata": {
    "tags": []
   },
   "outputs": [],
   "source": [
    "filtered_data = list(filter(lambda x : (x*2>8), data))"
   ]
  },
  {
   "cell_type": "code",
   "execution_count": 130,
   "id": "c19cab9c-e167-4b63-96d4-47eab4e10d47",
   "metadata": {
    "tags": []
   },
   "outputs": [
    {
     "data": {
      "text/plain": [
       "[5, 6, 7, 8, 9, 10]"
      ]
     },
     "execution_count": 130,
     "metadata": {},
     "output_type": "execute_result"
    }
   ],
   "source": [
    "filtered_data"
   ]
  },
  {
   "cell_type": "markdown",
   "id": "a6fd2601-3cf9-4997-9dab-f3f85922dff3",
   "metadata": {},
   "source": [
    "## Tarea 2"
   ]
  },
  {
   "cell_type": "code",
   "execution_count": 142,
   "id": "9acd7b82-50fc-4e94-9187-22078272b0d3",
   "metadata": {
    "tags": []
   },
   "outputs": [],
   "source": [
    "def DetectarPositivo():\n",
    "    numero = int(input(\"Escriba un número: \"))\n",
    "    if numero > 0:\n",
    "        print(\"El número es positivo\")\n",
    "    else:\n",
    "        print(\"El número es negativo\")"
   ]
  },
  {
   "cell_type": "code",
   "execution_count": 148,
   "id": "177c978e-54d0-4275-a27f-76c9cfcf3b53",
   "metadata": {
    "tags": []
   },
   "outputs": [
    {
     "name": "stdin",
     "output_type": "stream",
     "text": [
      "Escriba un número:  -6\n"
     ]
    },
    {
     "name": "stdout",
     "output_type": "stream",
     "text": [
      "El número es negativo\n"
     ]
    }
   ],
   "source": [
    "DetectarPositivo()"
   ]
  },
  {
   "cell_type": "code",
   "execution_count": 160,
   "id": "058b40e4-3d2b-4345-bfab-5b3ab189e731",
   "metadata": {
    "tags": []
   },
   "outputs": [],
   "source": [
    "def DetectarIntervalo():\n",
    "    numero = int(input(\"Escriba un número: \"))\n",
    "    if numero > 5:\n",
    "        print(\"Es mayor a 5\")\n",
    "    elif numero < -5:\n",
    "        print(\"Es menor a -5\")\n",
    "    else:\n",
    "        print(\"Se encuentra entre 5 y -5\")\n",
    "        "
   ]
  },
  {
   "cell_type": "code",
   "execution_count": 166,
   "id": "860b9009-fad2-4504-8602-16bf5b0e9042",
   "metadata": {
    "tags": []
   },
   "outputs": [
    {
     "name": "stdin",
     "output_type": "stream",
     "text": [
      "Escriba un número:  5\n"
     ]
    },
    {
     "name": "stdout",
     "output_type": "stream",
     "text": [
      "Se encuentra entre 5 y -5\n"
     ]
    }
   ],
   "source": [
    "DetectarIntervalo()"
   ]
  },
  {
   "cell_type": "code",
   "execution_count": 257,
   "id": "584241c3-d4b9-4222-ad8c-06add9b0d645",
   "metadata": {
    "tags": []
   },
   "outputs": [],
   "source": [
    "def Determinar_cuadrante():\n",
    "    x = float(input(\"Ingrese la coordenada x: \"))\n",
    "    y = float(input(\"Ingrese la coordenada y: \"))    \n",
    "    if x > 0 and y > 0:\n",
    "        print(\"El punto se encuentra en el primer cuadrante.\")\n",
    "    elif x < 0 and y > 0:\n",
    "        print(\"El punto se encuentra en el segundo cuadrante.\")\n",
    "    elif x < 0 and y < 0:\n",
    "        print(\"El punto se encuentra en el tercer cuadrante.\")\n",
    "    elif x > 0 and y < 0:\n",
    "        print(\"El punto se encuentra en el cuarto cuadrante.\")\n",
    "    else:\n",
    "        print(\"El punto se encuentra en el origen de coordenadas.\")"
   ]
  },
  {
   "cell_type": "code",
   "execution_count": 261,
   "id": "880db4d3-3932-4d92-9e66-71b032c431d1",
   "metadata": {
    "tags": []
   },
   "outputs": [
    {
     "name": "stdin",
     "output_type": "stream",
     "text": [
      "Ingrese la coordenada x:  0\n",
      "Ingrese la coordenada y:  0\n"
     ]
    },
    {
     "name": "stdout",
     "output_type": "stream",
     "text": [
      "El punto se encuentra en el origen de coordenadas.\n"
     ]
    }
   ],
   "source": [
    "Determinar_cuadrante()"
   ]
  },
  {
   "cell_type": "code",
   "execution_count": 170,
   "id": "0056536e-1f50-4642-98fa-5b001de6baec",
   "metadata": {
    "tags": []
   },
   "outputs": [],
   "source": [
    "def DividirNumero():\n",
    "    a = int(input(\"Escriba un número: \"))\n",
    "    b = int(input(\"Escriba un número: \"))\n",
    "    print(a // b)"
   ]
  },
  {
   "cell_type": "code",
   "execution_count": 176,
   "id": "196f1907-7e5e-4082-8caa-0a47ee1d9412",
   "metadata": {
    "tags": []
   },
   "outputs": [
    {
     "name": "stdin",
     "output_type": "stream",
     "text": [
      "Escriba un número:  5\n",
      "Escriba un número:  3\n"
     ]
    },
    {
     "name": "stdout",
     "output_type": "stream",
     "text": [
      "1\n"
     ]
    }
   ],
   "source": [
    "DividirNumero()"
   ]
  },
  {
   "cell_type": "code",
   "execution_count": 224,
   "id": "24ce8293-3df6-4d74-bf98-0de10cbde0ba",
   "metadata": {
    "tags": []
   },
   "outputs": [],
   "source": [
    "def DetectarCuadradoPerfecto():\n",
    "    x = int(input(\"Escriba un número: \"))\n",
    "    raiz = math.sqrt(x)\n",
    "    if math.sqrt(x).is_integer():\n",
    "        print(\"El numero es un cuadrado perfecto\")\n",
    "    else:\n",
    "        print(\"No es un cuadrado perfecto\")"
   ]
  },
  {
   "cell_type": "code",
   "execution_count": 188,
   "id": "d01ee688-b65f-4101-9632-f5d873bcb36b",
   "metadata": {
    "tags": []
   },
   "outputs": [],
   "source": [
    "import math"
   ]
  },
  {
   "cell_type": "code",
   "execution_count": 232,
   "id": "8becc45b-e583-47d9-b0a0-40d633c8473d",
   "metadata": {
    "tags": []
   },
   "outputs": [
    {
     "name": "stdin",
     "output_type": "stream",
     "text": [
      "Escriba un número:  11\n"
     ]
    },
    {
     "name": "stdout",
     "output_type": "stream",
     "text": [
      "No es un cuadrado perfecto\n"
     ]
    }
   ],
   "source": [
    "DetectarCuadradoPerfecto()"
   ]
  },
  {
   "cell_type": "code",
   "execution_count": 243,
   "id": "7a482977-9636-4957-9634-c6ee90f028d9",
   "metadata": {
    "tags": []
   },
   "outputs": [],
   "source": [
    "def Es_bisiesto():\n",
    "    año = int(input(\"Escriba un número: \"))\n",
    "    if (año % 4 == 0 and año % 100 != 0) or (año % 400 == 0):\n",
    "        print(\"Es bisiesto\")\n",
    "    else:\n",
    "        print(\"No es bisiesto\")"
   ]
  },
  {
   "cell_type": "code",
   "execution_count": 245,
   "id": "0e689974-f8f7-477a-b921-20e239181a2d",
   "metadata": {
    "tags": []
   },
   "outputs": [
    {
     "name": "stdin",
     "output_type": "stream",
     "text": [
      "Escriba un número:  2100\n"
     ]
    },
    {
     "name": "stdout",
     "output_type": "stream",
     "text": [
      "No es bisiesto\n"
     ]
    }
   ],
   "source": [
    "Es_bisiesto()"
   ]
  }
 ],
 "metadata": {
  "kernelspec": {
   "display_name": "Python 3 (ipykernel)",
   "language": "python",
   "name": "python3"
  },
  "language_info": {
   "codemirror_mode": {
    "name": "ipython",
    "version": 3
   },
   "file_extension": ".py",
   "mimetype": "text/x-python",
   "name": "python",
   "nbconvert_exporter": "python",
   "pygments_lexer": "ipython3",
   "version": "3.11.7"
  }
 },
 "nbformat": 4,
 "nbformat_minor": 5
}
