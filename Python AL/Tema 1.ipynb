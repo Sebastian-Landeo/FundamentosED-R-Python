{
 "cells": [
  {
   "cell_type": "markdown",
   "id": "233c1247-545b-4114-9e0b-2a5b855a2ebb",
   "metadata": {},
   "source": [
    "## Temas 1 - Matrices\n",
    "Vamos a ver cómo crear una matriz utilizando la librería `numpy`"
   ]
  },
  {
   "cell_type": "code",
   "execution_count": 2,
   "id": "1796daab-6165-42a2-a837-2f275a7a5e02",
   "metadata": {},
   "outputs": [
    {
     "data": {
      "text/plain": [
       "[1, 2, 3]"
      ]
     },
     "execution_count": 2,
     "metadata": {},
     "output_type": "execute_result"
    }
   ],
   "source": [
    "row = [1,2,3]\n",
    "row"
   ]
  },
  {
   "cell_type": "code",
   "execution_count": 4,
   "id": "604dc978-fa13-419b-be16-ad0d56b9cc56",
   "metadata": {},
   "outputs": [
    {
     "data": {
      "text/plain": [
       "[[1], [2], [3]]"
      ]
     },
     "execution_count": 4,
     "metadata": {},
     "output_type": "execute_result"
    }
   ],
   "source": [
    "col = [[1],[2],[3]]\n",
    "col"
   ]
  },
  {
   "cell_type": "code",
   "execution_count": 8,
   "id": "c35f1fa0-ea71-4f53-a521-b0cc40d8375e",
   "metadata": {},
   "outputs": [
    {
     "data": {
      "text/plain": [
       "[[1, 2, 3], [4, 5, 6], [7, 8, 9]]"
      ]
     },
     "execution_count": 8,
     "metadata": {},
     "output_type": "execute_result"
    }
   ],
   "source": [
    "M = [[1,2,3],[4,5,6],[7,8,9]]\n",
    "M"
   ]
  },
  {
   "cell_type": "code",
   "execution_count": 10,
   "id": "cd43c298-90d9-4456-ba4e-5ca826c44842",
   "metadata": {},
   "outputs": [
    {
     "data": {
      "text/plain": [
       "5"
      ]
     },
     "execution_count": 10,
     "metadata": {},
     "output_type": "execute_result"
    }
   ],
   "source": [
    "M[1][1]"
   ]
  },
  {
   "cell_type": "code",
   "execution_count": 12,
   "id": "31c33333-aece-4e6c-a479-e2531c83e28f",
   "metadata": {},
   "outputs": [
    {
     "data": {
      "text/plain": [
       "1"
      ]
     },
     "execution_count": 12,
     "metadata": {},
     "output_type": "execute_result"
    }
   ],
   "source": [
    "M[0][0]"
   ]
  },
  {
   "cell_type": "code",
   "execution_count": 7,
   "id": "bf40fd24-f2de-4922-a340-a997e38b8d5a",
   "metadata": {},
   "outputs": [],
   "source": [
    "import numpy as np"
   ]
  },
  {
   "cell_type": "code",
   "execution_count": 13,
   "id": "aedd99f4-cf87-406f-83d5-8c75af4f1f83",
   "metadata": {},
   "outputs": [
    {
     "data": {
      "text/plain": [
       "array([[1., 2., 3.],\n",
       "       [4., 5., 6.],\n",
       "       [7., 8., 9.]])"
      ]
     },
     "execution_count": 13,
     "metadata": {},
     "output_type": "execute_result"
    }
   ],
   "source": [
    "M = np.array([[1,2,3],[4,5,6],[7,8,9]], dtype = float)\n",
    "M"
   ]
  },
  {
   "cell_type": "code",
   "execution_count": 15,
   "id": "269962fe-b1ca-4c24-98ce-d8d3fe31d393",
   "metadata": {},
   "outputs": [
    {
     "data": {
      "text/plain": [
       "array([[0., 0., 0.],\n",
       "       [0., 0., 0.]])"
      ]
     },
     "execution_count": 15,
     "metadata": {},
     "output_type": "execute_result"
    }
   ],
   "source": [
    "np.zeros((2,3))"
   ]
  },
  {
   "cell_type": "code",
   "execution_count": 17,
   "id": "baedf56b-44f3-40cc-b006-446e49cae08b",
   "metadata": {},
   "outputs": [
    {
     "data": {
      "text/plain": [
       "array([[1., 1., 1., 1., 1.],\n",
       "       [1., 1., 1., 1., 1.],\n",
       "       [1., 1., 1., 1., 1.]])"
      ]
     },
     "execution_count": 17,
     "metadata": {},
     "output_type": "execute_result"
    }
   ],
   "source": [
    "np.ones((3,5))"
   ]
  },
  {
   "cell_type": "code",
   "execution_count": 21,
   "id": "a9414b25-602b-405f-9be8-c5d139688825",
   "metadata": {},
   "outputs": [
    {
     "data": {
      "text/plain": [
       "(3, 3)"
      ]
     },
     "execution_count": 21,
     "metadata": {},
     "output_type": "execute_result"
    }
   ],
   "source": [
    "np.shape(M)"
   ]
  },
  {
   "cell_type": "code",
   "execution_count": 29,
   "id": "b09a14ef-a52d-4245-9312-0c7a0dfe4995",
   "metadata": {},
   "outputs": [
    {
     "name": "stdout",
     "output_type": "stream",
     "text": [
      "a \n",
      " [[1 2]\n",
      " [3 4]]\n",
      "b \n",
      " [[ 3  0]\n",
      " [ 1 -1]]\n"
     ]
    }
   ],
   "source": [
    "A = np.array([[1,2],[3,4]])\n",
    "B = np.array([[3,0],[1,-1]])\n",
    "print(\"a \\n\",A)\n",
    "print(\"b \\n\",B)"
   ]
  },
  {
   "cell_type": "code",
   "execution_count": 31,
   "id": "1eff50a7-7275-4681-b628-1994f1f33130",
   "metadata": {},
   "outputs": [
    {
     "name": "stdout",
     "output_type": "stream",
     "text": [
      "[[4 2]\n",
      " [4 3]]\n"
     ]
    }
   ],
   "source": [
    "print(A+B)"
   ]
  },
  {
   "cell_type": "code",
   "execution_count": 33,
   "id": "c7a4e18a-543b-40e0-aa9c-c6d36ab446c7",
   "metadata": {},
   "outputs": [
    {
     "name": "stdout",
     "output_type": "stream",
     "text": [
      "[[ 5 -2]\n",
      " [13 -4]]\n"
     ]
    }
   ],
   "source": [
    "print(A.dot(B))"
   ]
  },
  {
   "cell_type": "code",
   "execution_count": 37,
   "id": "e9568c18-82c3-4eda-ab53-da8f30b4648b",
   "metadata": {},
   "outputs": [
    {
     "name": "stdout",
     "output_type": "stream",
     "text": [
      "5\n"
     ]
    }
   ],
   "source": [
    "print(A.trace())"
   ]
  },
  {
   "cell_type": "code",
   "execution_count": 39,
   "id": "8e09d3b0-bd69-4e49-9b6c-964a11a47062",
   "metadata": {},
   "outputs": [
    {
     "name": "stdout",
     "output_type": "stream",
     "text": [
      "[[1 3]\n",
      " [2 4]]\n"
     ]
    }
   ],
   "source": [
    "print(A.transpose())"
   ]
  },
  {
   "cell_type": "code",
   "execution_count": 43,
   "id": "d05a40bd-8107-4fec-b3c4-a75ef2ec4bfb",
   "metadata": {},
   "outputs": [
    {
     "data": {
      "text/plain": [
       "2"
      ]
     },
     "execution_count": 43,
     "metadata": {},
     "output_type": "execute_result"
    }
   ],
   "source": [
    "np.linalg.matrix_rank(A)"
   ]
  },
  {
   "cell_type": "code",
   "execution_count": 47,
   "id": "1442d462-c873-4c8d-a370-6d09fc98468b",
   "metadata": {},
   "outputs": [
    {
     "data": {
      "text/plain": [
       "array([[1069, 1558],\n",
       "       [2337, 3406]])"
      ]
     },
     "execution_count": 47,
     "metadata": {},
     "output_type": "execute_result"
    }
   ],
   "source": [
    "np.linalg.matrix_power(A,5)"
   ]
  },
  {
   "cell_type": "code",
   "execution_count": 49,
   "id": "920a67f7-0bc4-464a-bdc4-e585d6abd0a0",
   "metadata": {},
   "outputs": [
    {
     "data": {
      "text/plain": [
       "-2.0000000000000004"
      ]
     },
     "execution_count": 49,
     "metadata": {},
     "output_type": "execute_result"
    }
   ],
   "source": [
    "np.linalg.det(A)"
   ]
  },
  {
   "cell_type": "code",
   "execution_count": 51,
   "id": "d0071117-9b53-4884-8fbb-1dd87f8557b4",
   "metadata": {},
   "outputs": [
    {
     "data": {
      "text/plain": [
       "array([[-2. ,  1. ],\n",
       "       [ 1.5, -0.5]])"
      ]
     },
     "execution_count": 51,
     "metadata": {},
     "output_type": "execute_result"
    }
   ],
   "source": [
    "np.linalg.inv(A)"
   ]
  },
  {
   "cell_type": "code",
   "execution_count": 53,
   "id": "768c1a20-e1ec-4095-b0df-b04e01f7c380",
   "metadata": {},
   "outputs": [
    {
     "name": "stdout",
     "output_type": "stream",
     "text": [
      "[[1.00000000e+00 0.00000000e+00]\n",
      " [1.11022302e-16 1.00000000e+00]]\n"
     ]
    }
   ],
   "source": [
    "print(np.linalg.inv(A).dot(A))"
   ]
  },
  {
   "cell_type": "code",
   "execution_count": 55,
   "id": "f5c6dd5b-5873-4980-ad30-aed29a38d11a",
   "metadata": {},
   "outputs": [],
   "source": [
    "X = np.array([[1,2,3],[4,5,6],[7,8,9]])"
   ]
  },
  {
   "cell_type": "code",
   "execution_count": 57,
   "id": "c1e329c0-fe26-460d-9301-929e77f88c19",
   "metadata": {},
   "outputs": [
    {
     "data": {
      "text/plain": [
       "2"
      ]
     },
     "execution_count": 57,
     "metadata": {},
     "output_type": "execute_result"
    }
   ],
   "source": [
    "np.linalg.matrix_rank(X)"
   ]
  },
  {
   "cell_type": "code",
   "execution_count": 63,
   "id": "84cb4383-a52e-4816-a45d-edfaa5bf6dba",
   "metadata": {},
   "outputs": [
    {
     "ename": "LinAlgError",
     "evalue": "Singular matrix",
     "output_type": "error",
     "traceback": [
      "\u001b[1;31m---------------------------------------------------------------------------\u001b[0m",
      "\u001b[1;31mLinAlgError\u001b[0m                               Traceback (most recent call last)",
      "Cell \u001b[1;32mIn[63], line 1\u001b[0m\n\u001b[1;32m----> 1\u001b[0m np\u001b[38;5;241m.\u001b[39mlinalg\u001b[38;5;241m.\u001b[39minv(X)\n",
      "File \u001b[1;32m<__array_function__ internals>:180\u001b[0m, in \u001b[0;36minv\u001b[1;34m(*args, **kwargs)\u001b[0m\n",
      "File \u001b[1;32m~\\AppData\\Roaming\\Python\\Python311\\site-packages\\numpy\\linalg\\linalg.py:552\u001b[0m, in \u001b[0;36minv\u001b[1;34m(a)\u001b[0m\n\u001b[0;32m    550\u001b[0m signature \u001b[38;5;241m=\u001b[39m \u001b[38;5;124m'\u001b[39m\u001b[38;5;124mD->D\u001b[39m\u001b[38;5;124m'\u001b[39m \u001b[38;5;28;01mif\u001b[39;00m isComplexType(t) \u001b[38;5;28;01melse\u001b[39;00m \u001b[38;5;124m'\u001b[39m\u001b[38;5;124md->d\u001b[39m\u001b[38;5;124m'\u001b[39m\n\u001b[0;32m    551\u001b[0m extobj \u001b[38;5;241m=\u001b[39m get_linalg_error_extobj(_raise_linalgerror_singular)\n\u001b[1;32m--> 552\u001b[0m ainv \u001b[38;5;241m=\u001b[39m _umath_linalg\u001b[38;5;241m.\u001b[39minv(a, signature\u001b[38;5;241m=\u001b[39msignature, extobj\u001b[38;5;241m=\u001b[39mextobj)\n\u001b[0;32m    553\u001b[0m \u001b[38;5;28;01mreturn\u001b[39;00m wrap(ainv\u001b[38;5;241m.\u001b[39mastype(result_t, copy\u001b[38;5;241m=\u001b[39m\u001b[38;5;28;01mFalse\u001b[39;00m))\n",
      "File \u001b[1;32m~\\AppData\\Roaming\\Python\\Python311\\site-packages\\numpy\\linalg\\linalg.py:89\u001b[0m, in \u001b[0;36m_raise_linalgerror_singular\u001b[1;34m(err, flag)\u001b[0m\n\u001b[0;32m     88\u001b[0m \u001b[38;5;28;01mdef\u001b[39;00m \u001b[38;5;21m_raise_linalgerror_singular\u001b[39m(err, flag):\n\u001b[1;32m---> 89\u001b[0m     \u001b[38;5;28;01mraise\u001b[39;00m LinAlgError(\u001b[38;5;124m\"\u001b[39m\u001b[38;5;124mSingular matrix\u001b[39m\u001b[38;5;124m\"\u001b[39m)\n",
      "\u001b[1;31mLinAlgError\u001b[0m: Singular matrix"
     ]
    }
   ],
   "source": [
    "np.linalg.inv(X)"
   ]
  },
  {
   "cell_type": "code",
   "execution_count": 65,
   "id": "e2355b3e-e959-4e66-818e-b621878d95da",
   "metadata": {},
   "outputs": [
    {
     "ename": "LinAlgError",
     "evalue": "Last 2 dimensions of the array must be square",
     "output_type": "error",
     "traceback": [
      "\u001b[1;31m---------------------------------------------------------------------------\u001b[0m",
      "\u001b[1;31mLinAlgError\u001b[0m                               Traceback (most recent call last)",
      "Cell \u001b[1;32mIn[65], line 1\u001b[0m\n\u001b[1;32m----> 1\u001b[0m np\u001b[38;5;241m.\u001b[39mlinalg\u001b[38;5;241m.\u001b[39minv(np\u001b[38;5;241m.\u001b[39marray([[\u001b[38;5;241m1\u001b[39m,\u001b[38;5;241m2\u001b[39m,\u001b[38;5;241m3\u001b[39m],[\u001b[38;5;241m4\u001b[39m,\u001b[38;5;241m5\u001b[39m,\u001b[38;5;241m6\u001b[39m]]))\n",
      "File \u001b[1;32m<__array_function__ internals>:180\u001b[0m, in \u001b[0;36minv\u001b[1;34m(*args, **kwargs)\u001b[0m\n",
      "File \u001b[1;32m~\\AppData\\Roaming\\Python\\Python311\\site-packages\\numpy\\linalg\\linalg.py:547\u001b[0m, in \u001b[0;36minv\u001b[1;34m(a)\u001b[0m\n\u001b[0;32m    545\u001b[0m a, wrap \u001b[38;5;241m=\u001b[39m _makearray(a)\n\u001b[0;32m    546\u001b[0m _assert_stacked_2d(a)\n\u001b[1;32m--> 547\u001b[0m _assert_stacked_square(a)\n\u001b[0;32m    548\u001b[0m t, result_t \u001b[38;5;241m=\u001b[39m _commonType(a)\n\u001b[0;32m    550\u001b[0m signature \u001b[38;5;241m=\u001b[39m \u001b[38;5;124m'\u001b[39m\u001b[38;5;124mD->D\u001b[39m\u001b[38;5;124m'\u001b[39m \u001b[38;5;28;01mif\u001b[39;00m isComplexType(t) \u001b[38;5;28;01melse\u001b[39;00m \u001b[38;5;124m'\u001b[39m\u001b[38;5;124md->d\u001b[39m\u001b[38;5;124m'\u001b[39m\n",
      "File \u001b[1;32m~\\AppData\\Roaming\\Python\\Python311\\site-packages\\numpy\\linalg\\linalg.py:204\u001b[0m, in \u001b[0;36m_assert_stacked_square\u001b[1;34m(*arrays)\u001b[0m\n\u001b[0;32m    202\u001b[0m m, n \u001b[38;5;241m=\u001b[39m a\u001b[38;5;241m.\u001b[39mshape[\u001b[38;5;241m-\u001b[39m\u001b[38;5;241m2\u001b[39m:]\n\u001b[0;32m    203\u001b[0m \u001b[38;5;28;01mif\u001b[39;00m m \u001b[38;5;241m!=\u001b[39m n:\n\u001b[1;32m--> 204\u001b[0m     \u001b[38;5;28;01mraise\u001b[39;00m LinAlgError(\u001b[38;5;124m'\u001b[39m\u001b[38;5;124mLast 2 dimensions of the array must be square\u001b[39m\u001b[38;5;124m'\u001b[39m)\n",
      "\u001b[1;31mLinAlgError\u001b[0m: Last 2 dimensions of the array must be square"
     ]
    }
   ],
   "source": [
    "## np.linalg.inv(np.array([[1,2,3],[4,5,6]]))"
   ]
  },
  {
   "cell_type": "markdown",
   "id": "53bdfb78-efb9-4000-8691-d591438a8c22",
   "metadata": {},
   "source": [
    "## Tarea 5"
   ]
  },
  {
   "cell_type": "code",
   "execution_count": 6,
   "id": "63e4bfa7-ad92-4e6c-bc87-a63f2122eac3",
   "metadata": {},
   "outputs": [],
   "source": [
    "import math\n",
    "def resolver_ecuacion_segundo_grado(a,b,c):\n",
    "    discriminante = b**2 - 4*a*c\n",
    "    if discriminante > 0:\n",
    "        x1 = (-b+math.sqrt(discriminante))/(2*a)\n",
    "        x2 = (-b-math.sqrt(discriminante))/(2*a)\n",
    "        print(f\"Las soluciones son x1 = {x1} y x2 = {x2}\")\n",
    "    elif discriminante == 0:\n",
    "        x = -b/(2*a)\n",
    "        print(f\"Hay una única solución: x = {x}\")\n",
    "    else:\n",
    "        print(\"No hay soluciones reales\")"
   ]
  },
  {
   "cell_type": "code",
   "execution_count": 8,
   "id": "15911193-afa7-4d43-8348-4c695008736d",
   "metadata": {},
   "outputs": [
    {
     "name": "stdout",
     "output_type": "stream",
     "text": [
      "Las soluciones son x1 = 2.0 y x2 = 1.0\n"
     ]
    }
   ],
   "source": [
    "resolver_ecuacion_segundo_grado(1, -3, 2)"
   ]
  },
  {
   "cell_type": "markdown",
   "id": "f0b7f7c7-3794-43ab-ba51-2d27bc538b85",
   "metadata": {},
   "source": [
    "**Ejercicio 2**"
   ]
  },
  {
   "cell_type": "code",
   "execution_count": 11,
   "id": "ef12a553-2c61-499e-ae1a-a788f987b478",
   "metadata": {},
   "outputs": [],
   "source": [
    "def es_palindromo(frase):\n",
    "    frase_limpia = ''.join(char.lower() for char in frase if char.isalnum())\n",
    "    if frase_limpia == frase_limpia[::-1]:\n",
    "        print(\"La frase es un palíndromo\")\n",
    "    else:\n",
    "        print(\"La frase no es un palíndromo\")"
   ]
  },
  {
   "cell_type": "code",
   "execution_count": 16,
   "id": "cb80c1ae-e421-4967-9338-d9eca36644c8",
   "metadata": {},
   "outputs": [
    {
     "name": "stdin",
     "output_type": "stream",
     "text": [
      "Introduce una frase:  ama\n"
     ]
    },
    {
     "name": "stdout",
     "output_type": "stream",
     "text": [
      "La frase es un palíndromo\n"
     ]
    }
   ],
   "source": [
    "frase = input(\"Introduce una frase: \")\n",
    "es_palindromo(frase)"
   ]
  },
  {
   "cell_type": "markdown",
   "id": "3a330c82-e8a5-45be-8fb8-5e9a1a53f610",
   "metadata": {},
   "source": [
    "**Ejercicio 3**"
   ]
  },
  {
   "cell_type": "code",
   "execution_count": 25,
   "id": "62a36abb-cc7f-48ce-86a4-581a15f668ea",
   "metadata": {},
   "outputs": [
    {
     "name": "stdout",
     "output_type": "stream",
     "text": [
      "{1: 1.0, 2: 1.4142135623730951, 3: 1.7320508075688772, 4: 2.0, 5: 2.23606797749979, 6: 2.449489742783178, 7: 2.6457513110645907, 8: 2.8284271247461903, 9: 3.0, 10: 3.1622776601683795}\n"
     ]
    }
   ],
   "source": [
    "#Diccionario comprimidos\n",
    "diccionario = {i: math.sqrt(i) for i in range(1,11)}\n",
    "print(diccionario)"
   ]
  },
  {
   "cell_type": "markdown",
   "id": "dce476b8-695c-4dcb-a9ab-b94ee26e950f",
   "metadata": {},
   "source": [
    "**Ejercicio 4**"
   ]
  },
  {
   "cell_type": "code",
   "execution_count": 32,
   "id": "6124583f-45cd-4323-bb50-456c07bf7895",
   "metadata": {},
   "outputs": [
    {
     "name": "stdin",
     "output_type": "stream",
     "text": [
      "Introduce una frase:  hay clases el día de hoy?\n"
     ]
    },
    {
     "name": "stdout",
     "output_type": "stream",
     "text": [
      "La frase en código morse es:\n",
      ".... .- -.--   -.-. .-.. .- ... . ...   . .-..   -..   .-   -.. .   .... --- -.-- ..--..\n"
     ]
    }
   ],
   "source": [
    "morse_code_dict = {\n",
    "    'A': '.-', 'B': '-...', 'C': '-.-.', 'D': '-..', 'E': '.', 'F': '..-.', 'G': '--.', 'H': '....', 'I': '..',\n",
    "    'J': '.---', 'K': '-.-', 'L': '.-..', 'M': '--', 'N': '-.', 'O': '---', 'P': '.--.', 'Q': '--.-', 'R': '.-.',\n",
    "    'S': '...', 'T': '-', 'U': '..-', 'V': '...-', 'W': '.--', 'X': '-..-', 'Y': '-.--', 'Z': '--..', '0': '-----',\n",
    "    '1': '.----', '2': '..---', '3': '...--', '4': '....-', '5': '.....', '6': '-....', '7': '--...', '8': '---..',\n",
    "    '9': '----.', 'Ñ': '--.--', '.': '.-.-.-', ',': '--..--', '?': '..--..', \"'\": '.----.', '!': '-.-.--',\n",
    "    '/': '-..-.', '(': '-.--.', ')': '-.--.-', '&': '.-...', ':': '---...', ';': '-.-.-.', '=': '-...-', '+': '.-.-.',\n",
    "    '-': '-....-', '_': '..--.-', '\"': '.-..-.', '$': '...-..-', '@': '.--.-.', ' ': ' '\n",
    "}\n",
    "def convertir_a_morse(frase):\n",
    "    # Convertir la frase a mayúsculas para que coincida con las claves del diccionario\n",
    "    frase = frase.upper() \n",
    "    # Inicializar una lista para almacenar el código morse\n",
    "    morse_frase = []\n",
    "    # Convertir cada letra de la frase a su código morse\n",
    "    for char in frase:\n",
    "        if char in morse_code_dict:\n",
    "            morse_frase.append(morse_code_dict[char])\n",
    "        else:\n",
    "            # Si el carácter no está en el diccionario, añadir un espacio como separador\n",
    "            morse_frase.append(' ')\n",
    "    # Unir todos los símbolos de morse con un espacio para separar las letras\n",
    "    return ' '.join(morse_frase)\n",
    "\n",
    "frase = input(\"Introduce una frase: \")\n",
    "print(\"La frase en código morse es:\")\n",
    "print(convertir_a_morse(frase))"
   ]
  },
  {
   "cell_type": "markdown",
   "id": "d55fa8fe-bb7d-4276-9557-df2594eb209b",
   "metadata": {},
   "source": [
    "**Ejercicio 5**"
   ]
  },
  {
   "cell_type": "code",
   "execution_count": 45,
   "id": "955e75ba-5178-4910-95b9-d6d078fbf52d",
   "metadata": {},
   "outputs": [
    {
     "name": "stdout",
     "output_type": "stream",
     "text": [
      "dict_keys(['a', 'b', 'c'])\n",
      "dict_keys(['b', 'c', 'd'])\n",
      "['b', 'c']\n"
     ]
    }
   ],
   "source": [
    "def claves_comunes(dic1, dic2):\n",
    "    comunes = []\n",
    "    for clave in dic1:\n",
    "        if clave in dic2:\n",
    "            comunes.append(clave)\n",
    "    return comunes\n",
    "diccionario1 = {\n",
    "    'a': 1,\n",
    "    'b': 2,\n",
    "    'c': 3\n",
    "}\n",
    "\n",
    "diccionario2 = {\n",
    "    'b': 4,\n",
    "    'c': 5,\n",
    "    'd': 6\n",
    "}\n",
    "\n",
    "print(diccionario1.keys())\n",
    "print(diccionario2.keys())\n",
    "print(claves_comunes(diccionario1, diccionario2))\n"
   ]
  },
  {
   "cell_type": "markdown",
   "id": "0be923e4-217a-4df8-9fa8-1d4949bea9ae",
   "metadata": {},
   "source": [
    "**Ejercicio 6**"
   ]
  },
  {
   "cell_type": "code",
   "execution_count": 4,
   "id": "35f1337f-4ce8-432b-ba94-dc5f2eb70d30",
   "metadata": {},
   "outputs": [
    {
     "name": "stdin",
     "output_type": "stream",
     "text": [
      "Introduce un número:  13233489534\n"
     ]
    },
    {
     "name": "stdout",
     "output_type": "stream",
     "text": [
      "13233489534 no es un número primo\n"
     ]
    }
   ],
   "source": [
    "def es_primo(N):\n",
    "    if N <= 1:\n",
    "        return False;\n",
    "    if N == 2:\n",
    "        return True;\n",
    "    for x in range(2,N):\n",
    "        if N % x == 0:\n",
    "            return False;\n",
    "    return True\n",
    "\n",
    "N = int(input(\"Introduce un número: \"))\n",
    "if es_primo(N):\n",
    "    print(f\"{N} Es un número primo\")\n",
    "else:\n",
    "    print(f\"{N} no es un número primo\")\n"
   ]
  },
  {
   "cell_type": "markdown",
   "id": "c9b1ab60-6645-4d6b-96a1-3f354c74839a",
   "metadata": {},
   "source": [
    "**Ejercicio 7**"
   ]
  },
  {
   "cell_type": "code",
   "execution_count": 15,
   "id": "27a5b51c-385d-4748-86a0-b0678c6ffcac",
   "metadata": {},
   "outputs": [
    {
     "name": "stdin",
     "output_type": "stream",
     "text": [
      "Introduce una frase:  que tal\n"
     ]
    },
    {
     "name": "stdout",
     "output_type": "stream",
     "text": [
      "Frase con la primera letra de cada palabra en mayúscula\n",
      "Que Tal\n"
     ]
    }
   ],
   "source": [
    "def capitalizar_primera_letra():\n",
    "    frase = input(\"Introduce una frase: \")\n",
    "    frase_capitalizada = frase.title()\n",
    "    print(\"Frase con la primera letra de cada palabra en mayúscula\")\n",
    "    print(frase_capitalizada)\n",
    "\n",
    "capitalizar_primera_letra()"
   ]
  },
  {
   "cell_type": "markdown",
   "id": "283a5cb0-b9c8-4e5a-bdb3-aa30e5e67413",
   "metadata": {},
   "source": [
    "**Ejercicio 8**"
   ]
  },
  {
   "cell_type": "code",
   "execution_count": 20,
   "id": "65f59137-0552-4774-8ef3-c37a2340edb2",
   "metadata": {},
   "outputs": [
    {
     "name": "stdin",
     "output_type": "stream",
     "text": [
      "Introduce el primer número:  12\n",
      "Introduce el segundo número:  3\n"
     ]
    },
    {
     "name": "stdout",
     "output_type": "stream",
     "text": [
      "El máximo común divisor de 12 y 3 es 3\n"
     ]
    }
   ],
   "source": [
    "def calcular_mcd(a,b):\n",
    "    while b != 0:\n",
    "        a, b = b, a % b\n",
    "    return a\n",
    "\n",
    "num1 = int(input(\"Introduce el primer número: \"))\n",
    "num2 = int(input(\"Introduce el segundo número: \"))\n",
    "mcd = calcular_mcd(num1, num2)\n",
    "print(f\"El máximo común divisor de {num1} y {num2} es {mcd}\")"
   ]
  },
  {
   "cell_type": "markdown",
   "id": "a4287f84-0266-4fe7-a0af-78b73dab872f",
   "metadata": {},
   "source": [
    "**Ejercicio 10**"
   ]
  },
  {
   "cell_type": "code",
   "execution_count": 24,
   "id": "79cf08a5-8c02-4362-baf2-41415dac5994",
   "metadata": {},
   "outputs": [
    {
     "name": "stdout",
     "output_type": "stream",
     "text": [
      "Orden alfabético: ['Ana', 'Carlos', 'Juan', 'Luisa', 'María', 'Pablo', 'Pedro']\n",
      "Orden alfabético invertido: ['Pedro', 'Pablo', 'María', 'Luisa', 'Juan', 'Carlos', 'Ana']\n",
      "Orden por longitud: ['Ana', 'Juan', 'María', 'Pedro', 'Luisa', 'Pablo', 'Carlos']\n"
     ]
    }
   ],
   "source": [
    "def ordenar_nombres(lista_nombres):\n",
    "    orden_alfabetico = sorted(lista_nombres)\n",
    "    orden_alfabetico_invertido = sorted(lista_nombres, reverse = True)\n",
    "    orden_longitud = sorted(lista_nombres, key = len)\n",
    "    return orden_alfabetico, orden_alfabetico_invertido, orden_longitud\n",
    "\n",
    "nombres = [\"Juan\", \"María\", \"Carlos\", \"Ana\", \"Pedro\", \"Luisa\", \"Pablo\"]\n",
    "orden_alfabetico, orden_alfabetico_invertido, orden_longitud = ordenar_nombres(nombres)\n",
    "print(\"Orden alfabético:\", orden_alfabetico)\n",
    "print(\"Orden alfabético invertido:\", orden_alfabetico_invertido)\n",
    "print(\"Orden por longitud:\", orden_longitud)"
   ]
  }
 ],
 "metadata": {
  "kernelspec": {
   "display_name": "Python 3 (ipykernel)",
   "language": "python",
   "name": "python3"
  },
  "language_info": {
   "codemirror_mode": {
    "name": "ipython",
    "version": 3
   },
   "file_extension": ".py",
   "mimetype": "text/x-python",
   "name": "python",
   "nbconvert_exporter": "python",
   "pygments_lexer": "ipython3",
   "version": "3.11.7"
  }
 },
 "nbformat": 4,
 "nbformat_minor": 5
}
